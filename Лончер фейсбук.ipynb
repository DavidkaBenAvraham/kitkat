{
 "cells": [
  {
   "cell_type": "code",
   "execution_count": 1,
   "metadata": {},
   "outputs": [
    {
     "ename": "AttributeError",
     "evalue": "'FB' object has no attribute 'log'",
     "output_type": "error",
     "traceback": [
      "\u001b[1;31m---------------------------------------------------------------------------\u001b[0m",
      "\u001b[1;31mAttributeError\u001b[0m                            Traceback (most recent call last)",
      "\u001b[1;32m<ipython-input-1-f8fc15ed6ab7>\u001b[0m in \u001b[0;36m<module>\u001b[1;34m\u001b[0m\n\u001b[0;32m     16\u001b[0m \u001b[1;32mimport\u001b[0m \u001b[0mFacebook\u001b[0m\u001b[1;33m\u001b[0m\u001b[1;33m\u001b[0m\u001b[0m\n\u001b[0;32m     17\u001b[0m \u001b[1;33m\u001b[0m\u001b[0m\n\u001b[1;32m---> 18\u001b[1;33m \u001b[0mfb\u001b[0m \u001b[1;33m=\u001b[0m \u001b[0mFacebook\u001b[0m\u001b[1;33m.\u001b[0m\u001b[0mFB\u001b[0m\u001b[1;33m(\u001b[0m\u001b[1;33m)\u001b[0m\u001b[1;33m\u001b[0m\u001b[1;33m\u001b[0m\u001b[0m\n\u001b[0m\u001b[0;32m     19\u001b[0m \u001b[1;32mif\u001b[0m \u001b[0mfb\u001b[0m\u001b[1;33m.\u001b[0m\u001b[0mrun\u001b[0m\u001b[1;33m(\u001b[0m\u001b[1;33m)\u001b[0m\u001b[1;33m:\u001b[0m \u001b[1;32mpass\u001b[0m\u001b[1;33m\u001b[0m\u001b[1;33m\u001b[0m\u001b[0m\n\u001b[0;32m     20\u001b[0m \u001b[1;31m#    fb.send( lang = '*', from_ROWID = 0 , to_ROWID = 'max')\u001b[0m\u001b[1;33m\u001b[0m\u001b[1;33m\u001b[0m\u001b[1;33m\u001b[0m\u001b[0m\n",
      "\u001b[1;32m~\\OneDrive\\REPOS\\Aluf\\Aluf\\Facebook\\__init__.py\u001b[0m in \u001b[0;36m__init__\u001b[1;34m(self, **kwards)\u001b[0m\n\u001b[0;32m     53\u001b[0m \u001b[1;33m\u001b[0m\u001b[0m\n\u001b[0;32m     54\u001b[0m     \u001b[1;32mdef\u001b[0m \u001b[0m__init__\u001b[0m\u001b[1;33m(\u001b[0m\u001b[0mself\u001b[0m\u001b[1;33m,\u001b[0m \u001b[1;33m**\u001b[0m\u001b[0mkwards\u001b[0m\u001b[1;33m)\u001b[0m\u001b[1;33m:\u001b[0m\u001b[1;33m\u001b[0m\u001b[1;33m\u001b[0m\u001b[0m\n\u001b[1;32m---> 55\u001b[1;33m         \u001b[0msuper\u001b[0m\u001b[1;33m(\u001b[0m\u001b[1;33m)\u001b[0m\u001b[1;33m.\u001b[0m\u001b[0m__init__\u001b[0m\u001b[1;33m(\u001b[0m\u001b[1;33m**\u001b[0m\u001b[0mkwards\u001b[0m\u001b[1;33m)\u001b[0m\u001b[1;33m\u001b[0m\u001b[1;33m\u001b[0m\u001b[0m\n\u001b[0m\u001b[0;32m     56\u001b[0m         \u001b[0mself\u001b[0m\u001b[1;33m.\u001b[0m\u001b[0mfb_ini\u001b[0m \u001b[1;33m=\u001b[0m \u001b[0mjson\u001b[0m\u001b[1;33m.\u001b[0m\u001b[0mget_json_from_file\u001b[0m\u001b[1;33m(\u001b[0m\u001b[1;34m'facebook.json'\u001b[0m\u001b[1;33m)\u001b[0m\u001b[1;33m\u001b[0m\u001b[1;33m\u001b[0m\u001b[0m\n\u001b[0;32m     57\u001b[0m         \u001b[0mself\u001b[0m\u001b[1;33m.\u001b[0m\u001b[0mlog\u001b[0m\u001b[1;33m.\u001b[0m\u001b[0mwrite\u001b[0m\u001b[1;33m(\u001b[0m\u001b[1;34m'запустился класс FB'\u001b[0m\u001b[1;33m)\u001b[0m\u001b[1;33m\u001b[0m\u001b[1;33m\u001b[0m\u001b[0m\n",
      "\u001b[1;32m~\\OneDrive\\REPOS\\Aluf\\Aluf\\Driver\\__init__.py\u001b[0m in \u001b[0;36m__init__\u001b[1;34m(self, **kwards)\u001b[0m\n\u001b[0;32m     27\u001b[0m \u001b[1;33m\u001b[0m\u001b[0m\n\u001b[0;32m     28\u001b[0m         \u001b[1;31m#self.log = Log()\u001b[0m\u001b[1;33m\u001b[0m\u001b[1;33m\u001b[0m\u001b[1;33m\u001b[0m\u001b[0m\n\u001b[1;32m---> 29\u001b[1;33m         \u001b[0mself\u001b[0m\u001b[1;33m.\u001b[0m\u001b[0mlog\u001b[0m\u001b[1;33m.\u001b[0m\u001b[0mwrite\u001b[0m\u001b[1;33m(\u001b[0m\u001b[1;34m'запустился класс Driver() '\u001b[0m\u001b[1;33m)\u001b[0m\u001b[1;33m\u001b[0m\u001b[1;33m\u001b[0m\u001b[0m\n\u001b[0m\u001b[0;32m     30\u001b[0m         \u001b[0mself\u001b[0m\u001b[1;33m.\u001b[0m\u001b[0mini\u001b[0m \u001b[1;33m=\u001b[0m \u001b[0mjson\u001b[0m\u001b[1;33m.\u001b[0m\u001b[0mget_json_from_file\u001b[0m\u001b[1;33m(\u001b[0m\u001b[1;34m'webdriver.json'\u001b[0m\u001b[1;33m)\u001b[0m\u001b[1;33m\u001b[0m\u001b[1;33m\u001b[0m\u001b[0m\n\u001b[0;32m     31\u001b[0m         \u001b[0mself\u001b[0m\u001b[1;33m.\u001b[0m\u001b[0mdriver_start\u001b[0m\u001b[1;33m(\u001b[0m\u001b[0mself\u001b[0m\u001b[1;33m.\u001b[0m\u001b[0mini\u001b[0m\u001b[1;33m[\u001b[0m\u001b[1;34m'driver'\u001b[0m\u001b[1;33m]\u001b[0m\u001b[1;33m)\u001b[0m\u001b[1;33m\u001b[0m\u001b[1;33m\u001b[0m\u001b[0m\n",
      "\u001b[1;31mAttributeError\u001b[0m: 'FB' object has no attribute 'log'"
     ]
    }
   ],
   "source": [
    "from selenium import webdriver\n",
    "from selenium.webdriver.common.by import By\n",
    "from selenium.webdriver.support.ui import WebDriverWait\n",
    "from selenium.webdriver.support import expected_conditions as EC\n",
    "from selenium.webdriver.common.keys import Keys\n",
    "\n",
    "\n",
    "import Facebook.db as fb_db\n",
    "import Messages.db as msgs_db\n",
    "\n",
    "import Ini as Ini\n",
    "\n",
    "import ipywidgets as widgets\n",
    "from IPython.display import display\n",
    "\n",
    "import Facebook\n",
    "\n",
    "fb = Facebook.FB()\n",
    "if fb.run(): pass\n",
    "#    fb.send( lang = '*', from_ROWID = 0 , to_ROWID = 'max')\n",
    "    "
   ]
  },
  {
   "cell_type": "code",
   "execution_count": null,
   "metadata": {},
   "outputs": [],
   "source": [
    "#fb.send_single_message_into_one_group(43,58)\n",
    "fb.send( lang = '*', from_ROWID = 0 , to_ROWID = 'max')\n",
    "    "
   ]
  },
  {
   "cell_type": "code",
   "execution_count": null,
   "metadata": {},
   "outputs": [],
   "source": [
    "def button_start_fb_clicked(b): # Описываем обработчик события\n",
    "    fb.ui_messages_Table()\n",
    "    \n",
    "button_start_fb = widgets.Button(description=\" START FB\")\n",
    "button_start_fb.on_click(button_start_fb_clicked) # Назначаем этот обработчик на событие \"on_click\"\n",
    "\n",
    "\n",
    "def button_start_sender_clicked(b): # Описываем обработчик события\n",
    "    fb.send( lang = '*', from_ROWID = 0 , to_ROWID = 'max')\n",
    "    \n",
    "button_start_sender = widgets.Button(description=\"START SENDER\")\n",
    "button_start_sender.on_click(button_start_sender_clicked) # Назначаем этот обработчик на событие \"on_click\"\n",
    "\n",
    "display(button_start_sender)\n",
    "\n"
   ]
  },
  {
   "cell_type": "code",
   "execution_count": null,
   "metadata": {},
   "outputs": [],
   "source": [
    "mexirot = 'https://www.facebook.com/groups/133980223422984'\n",
    "pirsum = 'https://www.facebook.com/groups/HolonRus'"
   ]
  },
  {
   "cell_type": "code",
   "execution_count": null,
   "metadata": {},
   "outputs": [],
   "source": [
    "import Ini as Ini\n",
    "textbox_url = widgets.Text(\n",
    "        value= mexirot,\n",
    "        placeholder='',\n",
    "        description='url' ,\n",
    "        disabled=False   \n",
    "    )\n",
    "\n",
    "    \n",
    "def button_gotourl_clicked(b): # Описываем обработчик события\n",
    "    fb.get_url(textbox_url.value)\n",
    "    \n",
    "button_gotourl = widgets.Button(description=\"GO\")\n",
    "button_gotourl.on_click(button_gotourl_clicked) # Назначаем этот обработчик на событие \"on_click\"\n",
    "\n",
    "\n",
    "def button_gotomexirot_clicked(b): # Описываем обработчик события\n",
    "    fb.get_url(mexirot)\n",
    "    \n",
    "button_gotomexirot = widgets.Button(description=\"mexirot\")\n",
    "button_gotomexirot.on_click(button_gotomexirot_clicked) # Назначаем этот обработчик на событие \"on_click\"\n",
    "\n",
    "\n",
    "def button_gotopirsum_clicked(b): # Описываем обработчик события\n",
    "    fb.get_url(pirsum)\n",
    "    \n",
    "button_gotopirsum = widgets.Button(description=\"pirsum\")\n",
    "button_gotopirsum.on_click(button_gotopirsum_clicked) # Назначаем этот обработчик на событие \"on_click\"\n",
    "\n",
    "\n",
    "display(button_start_fb)\n",
    "display(button_start_sender)\n",
    "\n",
    "display(textbox_url)\n",
    "display(button_gotourl)\n",
    "\n",
    "display(button_gotomexirot)\n",
    "display(button_gotopirsum)\n",
    "\n"
   ]
  },
  {
   "cell_type": "markdown",
   "metadata": {},
   "source": [
    "# Клац по элементу \n",
    "\n",
    "### class=\"_5qtp\"\n",
    "_4-fs\n",
    "\n",
    "\n",
    " element = self.find_element_by_css_selector(CSS_SELECTOR)\n",
    "            element.click()\n",
    "            self.wait(2)\n",
    "            element.send_keys(msg)\n"
   ]
  },
  {
   "cell_type": "code",
   "execution_count": null,
   "metadata": {},
   "outputs": [],
   "source": [
    "textbox_element = widgets.Text(\n",
    "        value='span._5qtp',\n",
    "        placeholder='',\n",
    "        description='elemnet' ,\n",
    "        disabled=False   \n",
    "    )\n",
    "display(textbox_element)\n",
    "    \n",
    "def button_element_clicked(b): # Описываем обработчик события\n",
    "    CSS_SELECTOR = textbox_element.value\n",
    "    print(f'css {CSS_SELECTOR}')\n",
    "    elements =  fb.driver.find_elements_by_css_selector(CSS_SELECTOR)\n",
    "\n",
    "    \n",
    "    for elem in elements:\n",
    "        print(elem.text.find('תמונה/סרטון'))\n",
    "        #if elem.text == 'התחל דיון' or elem.text == 'כתוב פוסט' :\n",
    "        if elem.text.find('תמונה/סרטון') >-1:\n",
    "            elem.click()\n",
    "            print(elem.text)\n",
    "\n",
    "button_element = widgets.Button(description=\"GO\")\n",
    "button_element.on_click(button_element_clicked) # Назначаем этот обработчик на событие \"on_click\"\n",
    "display(button_element)\n",
    "\n"
   ]
  },
  {
   "cell_type": "markdown",
   "metadata": {},
   "source": [
    "# Нажимаю на кнопочку для того, чтобы написать месседж"
   ]
  },
  {
   "cell_type": "code",
   "execution_count": null,
   "metadata": {},
   "outputs": [],
   "source": [
    "def button_click_2_start_writting_message_clicked(b): # Описываем обработчик события\n",
    "    fb.controllers.btn_start_writting_message_click(fb)\n",
    "    fb.controllers.txt_message_write(fb,'2222')\n",
    "\n",
    "button_click_2_start_writting_message = widgets.Button(description=\"Нажать для начала\")\n",
    "button_click_2_start_writting_message.on_click(button_click_2_start_writting_message_clicked) # Назначаем этот обработчик на событие \"on_click\"\n",
    "display(button_click_2_start_writting_message)\n"
   ]
  },
  {
   "cell_type": "markdown",
   "metadata": {},
   "source": [
    "# Пишу текст\n",
    "## селекторы\n",
    "                    ## '._2cuy._3dgx',\n",
    "                    ## 'textarea[placeholder^=\"כתוב משהו...\"]',\n",
    "                     ## 'textarea[placeholder^=\"כתוב משהו\"]',\n",
    "                     ## 'textarea[placeholder*=\"כתוב משהו...\"]',\n",
    "                     ## '._1mf._1mk',\n",
    "                     ## '_1p1v'"
   ]
  },
  {
   "cell_type": "code",
   "execution_count": null,
   "metadata": {},
   "outputs": [],
   "source": [
    "textbox_msg = widgets.Text(\n",
    "        value= 'אלוף',\n",
    "        placeholder='',\n",
    "        description='msg' ,\n",
    "        disabled=False   \n",
    "    )\n",
    "display(textbox_msg)\n",
    "    \n",
    "    \n",
    "textbox_cssselector_pole_vvoda = widgets.Text(\n",
    "        value= '._1mf._1mk',\n",
    "        placeholder='',\n",
    "        description='селектор' ,\n",
    "        disabled=False   \n",
    "    )\n",
    "display(textbox_cssselector_pole_vvoda)\n",
    "\n",
    "def button_write_msg_clicked(b): # Описываем обработчик события\n",
    "\n",
    "    element = fb.driver.find_element_by_css_selector(textbox_cssselector_pole_vvoda.value)\n",
    "    element.click()\n",
    "    fb.wait(2)\n",
    "    fb.driver.execute_script(\"arguments[0].innerHTML='1111';\", element)\n",
    "    #element.send_keys(textbox_msg.value)\n",
    "    \n",
    "    \n",
    "button_write_msg = widgets.Button(description=\"GO\")\n",
    "button_write_msg.on_click(button_write_msg_clicked) # Назначаем этот обработчик на событие \"on_click\"\n",
    "display(button_write_msg)"
   ]
  },
  {
   "cell_type": "markdown",
   "metadata": {},
   "source": [
    "# Картинки"
   ]
  },
  {
   "cell_type": "code",
   "execution_count": null,
   "metadata": {},
   "outputs": [],
   "source": [
    "textbox_upload_image = widgets.Text(\n",
    "        value='',\n",
    "        placeholder='',\n",
    "        description='image' ,\n",
    "        disabled=False   \n",
    "    )\n",
    "display(textbox_upload_image)\n",
    "    \n",
    "def button_upload_image_clicked(b): # Описываем обработчик события\n",
    "    fb.click_2_start_writting_message()\n",
    "    fb.driver.execute_script(\"window.scrollBy(0,200)\") # поднял окошко\n",
    "    fb.upload_imgs(textbox_upload_image.value)\n",
    "    \n",
    "button_upload_image = widgets.Button(description=\"UPLOAD\")\n",
    "button_upload_image.on_click(button_upload_image_clicked) # Назначаем этот обработчик на событие \"on_click\"\n",
    "display(button_upload_image)"
   ]
  },
  {
   "cell_type": "code",
   "execution_count": null,
   "metadata": {},
   "outputs": [],
   "source": []
  },
  {
   "cell_type": "code",
   "execution_count": null,
   "metadata": {},
   "outputs": [],
   "source": []
  }
 ],
 "metadata": {
  "kernelspec": {
   "display_name": "Python 3",
   "language": "python",
   "name": "python3"
  },
  "language_info": {
   "codemirror_mode": {
    "name": "ipython",
    "version": 3
   },
   "file_extension": ".py",
   "mimetype": "text/x-python",
   "name": "python",
   "nbconvert_exporter": "python",
   "pygments_lexer": "ipython3",
   "version": "3.7.6"
  }
 },
 "nbformat": 4,
 "nbformat_minor": 4
}
