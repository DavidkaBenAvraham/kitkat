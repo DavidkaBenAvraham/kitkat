{
 "cells": [
  {
   "cell_type": "code",
   "execution_count": 1,
   "id": "d998ba16",
   "metadata": {},
   "outputs": [
    {
     "name": "stderr",
     "output_type": "stream",
     "text": [
      "2022-07-13 16:19:51.703 | INFO     | suppliers:__attrs_post_init__:120 - Родился объект supplier ksp\n"
     ]
    }
   ],
   "source": [
    "#import ipywidgets as widgets\n",
    "#from IPython.display import display\n",
    "from suppliers import Supplier\n",
    "from ini_files_dir import Ini\n",
    "ini = Ini()\n",
    "\n",
    "s  = Supplier(supplier_prefics = 'ksp'  , ini = ini)"
   ]
  },
  {
   "cell_type": "code",
   "execution_count": 2,
   "id": "4fe90a3e",
   "metadata": {},
   "outputs": [],
   "source": [
    "d = s.driver"
   ]
  },
  {
   "cell_type": "code",
   "execution_count": 3,
   "id": "e2476f5d",
   "metadata": {},
   "outputs": [],
   "source": [
    "import suppliers.execute_scenaries as executer"
   ]
  },
  {
   "cell_type": "code",
   "execution_count": 4,
   "id": "2e1f8058",
   "metadata": {},
   "outputs": [
    {
     "ename": "NameError",
     "evalue": "name 'logger' is not defined",
     "output_type": "error",
     "traceback": [
      "\u001b[1;31m---------------------------------------------------------------------------\u001b[0m",
      "\u001b[1;31mNameError\u001b[0m                                 Traceback (most recent call last)",
      "Input \u001b[1;32mIn [4]\u001b[0m, in \u001b[0;36m<cell line: 1>\u001b[1;34m()\u001b[0m\n\u001b[1;32m----> 1\u001b[0m \u001b[43mexecuter\u001b[49m\u001b[38;5;241;43m.\u001b[39;49m\u001b[43mexecute_list_of_scenaries\u001b[49m\u001b[43m(\u001b[49m\u001b[43ms\u001b[49m\u001b[43m)\u001b[49m\n",
      "File \u001b[1;32m~\\OneDrive\\REPOS\\DavidkaBenAvraham\\Katia\\Aluf\\suppliers\\execute_scenaries.py:71\u001b[0m, in \u001b[0;36mexecute_list_of_scenaries\u001b[1;34m(Supplier)\u001b[0m\n\u001b[0;32m     69\u001b[0m \u001b[38;5;28;01mif\u001b[39;00m \u001b[38;5;28misinstance\u001b[39m(scenario_files, \u001b[38;5;28mstr\u001b[39m):\n\u001b[0;32m     70\u001b[0m     \u001b[38;5;124;03m''' если в сценарии есть всего один файл '''\u001b[39;00m\n\u001b[1;32m---> 71\u001b[0m     \u001b[43mrun\u001b[49m\u001b[43m(\u001b[49m\u001b[43mscenario_files\u001b[49m\u001b[43m)\u001b[49m\n\u001b[0;32m     72\u001b[0m \u001b[38;5;28;01melse\u001b[39;00m:\n\u001b[0;32m     73\u001b[0m     \u001b[38;5;28;01mfor\u001b[39;00m json_file \u001b[38;5;129;01min\u001b[39;00m [scenario_files]: \n",
      "File \u001b[1;32m~\\OneDrive\\REPOS\\DavidkaBenAvraham\\Katia\\Aluf\\suppliers\\execute_scenaries.py:60\u001b[0m, in \u001b[0;36mexecute_list_of_scenaries.<locals>.run\u001b[1;34m(json_file)\u001b[0m\n\u001b[0;32m     58\u001b[0m \u001b[38;5;28;01mwhile\u001b[39;00m \u001b[38;5;28mlen\u001b[39m(s\u001b[38;5;241m.\u001b[39mscenaries\u001b[38;5;241m.\u001b[39mitems())\u001b[38;5;241m>\u001b[39m\u001b[38;5;241m0\u001b[39m:\n\u001b[0;32m     59\u001b[0m     _scenario \u001b[38;5;241m=\u001b[39m s\u001b[38;5;241m.\u001b[39mscenaries\u001b[38;5;241m.\u001b[39mpopitem()[\u001b[38;5;241m1\u001b[39m]\n\u001b[1;32m---> 60\u001b[0m     \u001b[43mrun_scenario\u001b[49m\u001b[43m(\u001b[49m\u001b[43ms\u001b[49m\u001b[43m \u001b[49m\u001b[43m,\u001b[49m\u001b[43m \u001b[49m\u001b[43m_scenario\u001b[49m\u001b[43m)\u001b[49m\n",
      "File \u001b[1;32m~\\OneDrive\\REPOS\\DavidkaBenAvraham\\Katia\\Aluf\\suppliers\\execute_scenaries.py:175\u001b[0m, in \u001b[0;36mrun_scenario\u001b[1;34m(s, scenario)\u001b[0m\n\u001b[0;32m    173\u001b[0m     \u001b[38;5;124;03m''' имею дело с узлом сценария как в ksp, mor, etc '''\u001b[39;00m\n\u001b[0;32m    174\u001b[0m \u001b[38;5;28;01melse\u001b[39;00m:\n\u001b[1;32m--> 175\u001b[0m     \u001b[43mrun\u001b[49m\u001b[43m(\u001b[49m\u001b[43ms\u001b[49m\u001b[43m \u001b[49m\u001b[43m,\u001b[49m\u001b[43m \u001b[49m\u001b[43mscenario\u001b[49m\u001b[43m)\u001b[49m\n\u001b[0;32m    176\u001b[0m     \u001b[38;5;66;03m#json.export(s, s.p  , f'''{s.export_file_name}''', ['csv'])\u001b[39;00m\n\u001b[0;32m    177\u001b[0m     export()\n",
      "File \u001b[1;32m~\\OneDrive\\REPOS\\DavidkaBenAvraham\\Katia\\Aluf\\suppliers\\execute_scenaries.py:113\u001b[0m, in \u001b[0;36mrun_scenario.<locals>.run\u001b[1;34m(s, node)\u001b[0m\n\u001b[0;32m    111\u001b[0m \u001b[38;5;124;03m'''              1                          '''\u001b[39;00m\n\u001b[0;32m    112\u001b[0m \u001b[38;5;124;03m''' получаю список url на страницы товаров '''\u001b[39;00m\n\u001b[1;32m--> 113\u001b[0m list_products_urls : \u001b[38;5;28mlist\u001b[39m \u001b[38;5;241m=\u001b[39m \u001b[43mget_list_products_urls\u001b[49m\u001b[43m(\u001b[49m\u001b[43ms\u001b[49m\u001b[43m \u001b[49m\u001b[43m,\u001b[49m\u001b[43m \u001b[49m\u001b[43mnode\u001b[49m\u001b[43m)\u001b[49m\n\u001b[0;32m    116\u001b[0m \u001b[38;5;124;03m''' в исполняемом узле может не оказаться товаров. \u001b[39;00m\n\u001b[0;32m    117\u001b[0m \u001b[38;5;124;03mВ этом случае возвращаю False \u001b[39;00m\n\u001b[0;32m    118\u001b[0m \u001b[38;5;124;03m(перехожу к следующему узлу выполнения) '''\u001b[39;00m\n\u001b[0;32m    119\u001b[0m \u001b[38;5;28;01mif\u001b[39;00m list_products_urls \u001b[38;5;129;01mis\u001b[39;00m \u001b[38;5;28;01mNone\u001b[39;00m \u001b[38;5;129;01mor\u001b[39;00m \u001b[38;5;28mlen\u001b[39m(list_products_urls) \u001b[38;5;241m==\u001b[39m \u001b[38;5;241m0\u001b[39m : \u001b[38;5;28;01mreturn\u001b[39;00m \u001b[38;5;28;01mFalse\u001b[39;00m \n",
      "File \u001b[1;32m~\\OneDrive\\REPOS\\DavidkaBenAvraham\\Katia\\Aluf\\suppliers\\execute_scenaries.py:242\u001b[0m, in \u001b[0;36mget_list_products_urls\u001b[1;34m(s, scenario_node)\u001b[0m\n\u001b[0;32m    239\u001b[0m \u001b[38;5;124;03m''' А бесконечная прокрука '''\u001b[39;00m\n\u001b[0;32m    240\u001b[0m s\u001b[38;5;241m.\u001b[39mdriver\u001b[38;5;241m.\u001b[39mscroll()\n\u001b[1;32m--> 242\u001b[0m \u001b[43mget_page_check_list\u001b[49m\u001b[43m(\u001b[49m\u001b[43ms\u001b[49m\u001b[43m)\u001b[49m\n\u001b[0;32m    243\u001b[0m get_top_banners(s)\n\u001b[0;32m    246\u001b[0m list_product_urls : \u001b[38;5;28mlist\u001b[39m \u001b[38;5;241m=\u001b[39m s\u001b[38;5;241m.\u001b[39mdriver\u001b[38;5;241m.\u001b[39mfind(_)\n",
      "File \u001b[1;32m~\\OneDrive\\REPOS\\DavidkaBenAvraham\\Katia\\Aluf\\suppliers\\execute_scenaries.py:206\u001b[0m, in \u001b[0;36mget_list_products_urls.<locals>.get_page_check_list\u001b[1;34m(s)\u001b[0m\n\u001b[0;32m    204\u001b[0m filename \u001b[38;5;241m=\u001b[39m SF\u001b[38;5;241m.\u001b[39mconvert_url_to_valid_string(s\u001b[38;5;241m.\u001b[39mdriver\u001b[38;5;241m.\u001b[39mcurrent_url)\n\u001b[0;32m    205\u001b[0m _out : \u001b[38;5;28mdict\u001b[39m \u001b[38;5;241m=\u001b[39m {filename:controls}\n\u001b[1;32m--> 206\u001b[0m \u001b[43mlogger\u001b[49m\u001b[38;5;241m.\u001b[39mdebug(\u001b[38;5;124mf\u001b[39m\u001b[38;5;124m'''\u001b[39m\u001b[38;5;124mэкспорт файла \u001b[39m\u001b[38;5;132;01m{\u001b[39;00mfilename\u001b[38;5;132;01m}\u001b[39;00m\u001b[38;5;124m \u001b[39m\u001b[38;5;124m'''\u001b[39m)\n\u001b[0;32m    207\u001b[0m json\u001b[38;5;241m.\u001b[39mexport(s, _out, filename\u001b[38;5;241m=\u001b[39mfilename, \u001b[38;5;28mformat\u001b[39m\u001b[38;5;241m=\u001b[39m[\u001b[38;5;124m'\u001b[39m\u001b[38;5;124mjson\u001b[39m\u001b[38;5;124m'\u001b[39m])\n",
      "\u001b[1;31mNameError\u001b[0m: name 'logger' is not defined"
     ]
    }
   ],
   "source": [
    "executer.execute_list_of_scenaries(s)"
   ]
  },
  {
   "cell_type": "code",
   "execution_count": null,
   "id": "343f7592",
   "metadata": {},
   "outputs": [],
   "source": [
    "run_scenario(s , _scenario) "
   ]
  }
 ],
 "metadata": {
  "kernelspec": {
   "display_name": "Python 3 (ipykernel)",
   "language": "python",
   "name": "python3"
  },
  "language_info": {
   "codemirror_mode": {
    "name": "ipython",
    "version": 3
   },
   "file_extension": ".py",
   "mimetype": "text/x-python",
   "name": "python",
   "nbconvert_exporter": "python",
   "pygments_lexer": "ipython3",
   "version": "3.9.12"
  },
  "vscode": {
   "interpreter": {
    "hash": "7b1f2b33e866b0bf2409397e5f58ba9cdf170d3b7f64c8f359c79998e2f88ad4"
   }
  }
 },
 "nbformat": 4,
 "nbformat_minor": 5
}
