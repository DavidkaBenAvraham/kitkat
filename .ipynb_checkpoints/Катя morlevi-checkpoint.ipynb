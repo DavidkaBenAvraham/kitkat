{
 "cells": [
  {
   "cell_type": "code",
   "execution_count": 1,
   "id": "439680e2",
   "metadata": {},
   "outputs": [],
   "source": [
    "#import ipywidgets as widgets\n",
    "#from IPython.display import display\n",
    "from suppliers import Supplier\n",
    "from ini_files_dir import Ini\n",
    "ini = Ini()\n",
    "\n",
    "s  = Supplier(supplier_prefics = 'morlevi'  , ini = ini)\n",
    "d = s.driver\n",
    "import suppliers.execute_scenaries as executer"
   ]
  },
  {
   "cell_type": "code",
   "execution_count": null,
   "id": "dc2e454a",
   "metadata": {},
   "outputs": [],
   "source": []
  }
 ],
 "metadata": {
  "kernelspec": {
   "display_name": "Python 3 (ipykernel)",
   "language": "python",
   "name": "python3"
  },
  "language_info": {
   "codemirror_mode": {
    "name": "ipython",
    "version": 3
   },
   "file_extension": ".py",
   "mimetype": "text/x-python",
   "name": "python",
   "nbconvert_exporter": "python",
   "pygments_lexer": "ipython3",
   "version": "3.9.12"
  }
 },
 "nbformat": 4,
 "nbformat_minor": 5
}
