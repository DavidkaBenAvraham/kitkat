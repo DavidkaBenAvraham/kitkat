{
 "cells": [
  {
   "cell_type": "markdown",
   "id": "d16ad1ff-2904-4422-aa7f-1f3dec4a8606",
   "metadata": {},
   "source": [
    "## Взято из Хабр <a href='https://habr.com/ru/post/305378/'>Генерируем красивую Google-таблицу из своей программы (используя Google Sheets API v4)"
   ]
  },
  {
   "cell_type": "code",
   "execution_count": 1,
   "id": "c110b2c4-e2c1-4b90-a37b-440104b17dbc",
   "metadata": {},
   "outputs": [],
   "source": [
    "import httplib2\n",
    "import apiclient.discovery\n",
    "from oauth2client.service_account import ServiceAccountCredentials"
   ]
  },
  {
   "cell_type": "code",
   "execution_count": 4,
   "id": "985b437e-7115-46e8-8360-4ea5ff0dba04",
   "metadata": {},
   "outputs": [
    {
     "ename": "ValueError",
     "evalue": "('Unexpected credentials type', None, 'Expected', 'service_account')",
     "output_type": "error",
     "traceback": [
      "\u001b[1;31m---------------------------------------------------------------------------\u001b[0m",
      "\u001b[1;31mValueError\u001b[0m                                Traceback (most recent call last)",
      "Input \u001b[1;32mIn [4]\u001b[0m, in \u001b[0;36m<cell line: 5>\u001b[1;34m()\u001b[0m\n\u001b[0;32m      1\u001b[0m \u001b[38;5;66;03m# имя файла с закрытым ключом\u001b[39;00m\n\u001b[0;32m      3\u001b[0m CREDENTIALS_FILE \u001b[38;5;241m=\u001b[39m \u001b[38;5;124mf\u001b[39m\u001b[38;5;124m'\u001b[39m\u001b[38;5;124msecrets/client_secret_920776813054-crpf1rcav3uui51kq9q1lis64glkpatj.apps.googleusercontent.com.json\u001b[39m\u001b[38;5;124m'\u001b[39m \n\u001b[1;32m----> 5\u001b[0m credentials \u001b[38;5;241m=\u001b[39m \u001b[43mServiceAccountCredentials\u001b[49m\u001b[38;5;241;43m.\u001b[39;49m\u001b[43mfrom_json_keyfile_name\u001b[49m\u001b[43m(\u001b[49m\u001b[43mCREDENTIALS_FILE\u001b[49m\u001b[43m,\u001b[49m\u001b[43m \u001b[49m\u001b[43m[\u001b[49m\u001b[38;5;124;43m'\u001b[39;49m\u001b[38;5;124;43mhttps://www.googleapis.com/auth/spreadsheets\u001b[39;49m\u001b[38;5;124;43m'\u001b[39;49m\u001b[43m,\u001b[49m\n\u001b[0;32m      6\u001b[0m \u001b[43m                                                                                  \u001b[49m\u001b[38;5;124;43m'\u001b[39;49m\u001b[38;5;124;43mhttps://www.googleapis.com/auth/drive\u001b[39;49m\u001b[38;5;124;43m'\u001b[39;49m\u001b[43m]\u001b[49m\u001b[43m)\u001b[49m\n\u001b[0;32m      7\u001b[0m httpAuth \u001b[38;5;241m=\u001b[39m credentials\u001b[38;5;241m.\u001b[39mauthorize(httplib2\u001b[38;5;241m.\u001b[39mHttp())\n\u001b[0;32m      8\u001b[0m service \u001b[38;5;241m=\u001b[39m apiclient\u001b[38;5;241m.\u001b[39mdiscovery\u001b[38;5;241m.\u001b[39mbuild(\u001b[38;5;124m'\u001b[39m\u001b[38;5;124msheets\u001b[39m\u001b[38;5;124m'\u001b[39m, \u001b[38;5;124m'\u001b[39m\u001b[38;5;124mv4\u001b[39m\u001b[38;5;124m'\u001b[39m, http \u001b[38;5;241m=\u001b[39m httpAuth)\n",
      "File \u001b[1;32m~\\anaconda3\\lib\\site-packages\\oauth2client\\service_account.py:221\u001b[0m, in \u001b[0;36mServiceAccountCredentials.from_json_keyfile_name\u001b[1;34m(cls, filename, scopes, token_uri, revoke_uri)\u001b[0m\n\u001b[0;32m    219\u001b[0m \u001b[38;5;28;01mwith\u001b[39;00m \u001b[38;5;28mopen\u001b[39m(filename, \u001b[38;5;124m'\u001b[39m\u001b[38;5;124mr\u001b[39m\u001b[38;5;124m'\u001b[39m) \u001b[38;5;28;01mas\u001b[39;00m file_obj:\n\u001b[0;32m    220\u001b[0m     client_credentials \u001b[38;5;241m=\u001b[39m json\u001b[38;5;241m.\u001b[39mload(file_obj)\n\u001b[1;32m--> 221\u001b[0m \u001b[38;5;28;01mreturn\u001b[39;00m \u001b[38;5;28;43mcls\u001b[39;49m\u001b[38;5;241;43m.\u001b[39;49m\u001b[43m_from_parsed_json_keyfile\u001b[49m\u001b[43m(\u001b[49m\u001b[43mclient_credentials\u001b[49m\u001b[43m,\u001b[49m\u001b[43m \u001b[49m\u001b[43mscopes\u001b[49m\u001b[43m,\u001b[49m\n\u001b[0;32m    222\u001b[0m \u001b[43m                                     \u001b[49m\u001b[43mtoken_uri\u001b[49m\u001b[38;5;241;43m=\u001b[39;49m\u001b[43mtoken_uri\u001b[49m\u001b[43m,\u001b[49m\n\u001b[0;32m    223\u001b[0m \u001b[43m                                     \u001b[49m\u001b[43mrevoke_uri\u001b[49m\u001b[38;5;241;43m=\u001b[39;49m\u001b[43mrevoke_uri\u001b[49m\u001b[43m)\u001b[49m\n",
      "File \u001b[1;32m~\\anaconda3\\lib\\site-packages\\oauth2client\\service_account.py:171\u001b[0m, in \u001b[0;36mServiceAccountCredentials._from_parsed_json_keyfile\u001b[1;34m(cls, keyfile_dict, scopes, token_uri, revoke_uri)\u001b[0m\n\u001b[0;32m    169\u001b[0m creds_type \u001b[38;5;241m=\u001b[39m keyfile_dict\u001b[38;5;241m.\u001b[39mget(\u001b[38;5;124m'\u001b[39m\u001b[38;5;124mtype\u001b[39m\u001b[38;5;124m'\u001b[39m)\n\u001b[0;32m    170\u001b[0m \u001b[38;5;28;01mif\u001b[39;00m creds_type \u001b[38;5;241m!=\u001b[39m client\u001b[38;5;241m.\u001b[39mSERVICE_ACCOUNT:\n\u001b[1;32m--> 171\u001b[0m     \u001b[38;5;28;01mraise\u001b[39;00m \u001b[38;5;167;01mValueError\u001b[39;00m(\u001b[38;5;124m'\u001b[39m\u001b[38;5;124mUnexpected credentials type\u001b[39m\u001b[38;5;124m'\u001b[39m, creds_type,\n\u001b[0;32m    172\u001b[0m                      \u001b[38;5;124m'\u001b[39m\u001b[38;5;124mExpected\u001b[39m\u001b[38;5;124m'\u001b[39m, client\u001b[38;5;241m.\u001b[39mSERVICE_ACCOUNT)\n\u001b[0;32m    174\u001b[0m service_account_email \u001b[38;5;241m=\u001b[39m keyfile_dict[\u001b[38;5;124m'\u001b[39m\u001b[38;5;124mclient_email\u001b[39m\u001b[38;5;124m'\u001b[39m]\n\u001b[0;32m    175\u001b[0m private_key_pkcs8_pem \u001b[38;5;241m=\u001b[39m keyfile_dict[\u001b[38;5;124m'\u001b[39m\u001b[38;5;124mprivate_key\u001b[39m\u001b[38;5;124m'\u001b[39m]\n",
      "\u001b[1;31mValueError\u001b[0m: ('Unexpected credentials type', None, 'Expected', 'service_account')"
     ]
    }
   ],
   "source": [
    "# имя файла с закрытым ключом\n",
    "'''\n",
    "CREDENTIALS_FILE = f'secrets/client_secret_920776813054-crpf1rcav3uui51kq9q1lis64glkpatj.apps.googleusercontent.com.json' \n",
    "\n",
    "credentials = ServiceAccountCredentials.from_json_keyfile_name(CREDENTIALS_FILE, ['https://www.googleapis.com/auth/spreadsheets',\n",
    "                                                                                  'https://www.googleapis.com/auth/drive'])\n",
    "httpAuth = credentials.authorize(httplib2.Http())\n",
    "service = apiclient.discovery.build('sheets', 'v4', http = httpAuth)\n",
    "'''"
   ]
  },
  {
   "cell_type": "code",
   "execution_count": 5,
   "id": "08e5dd33-cf96-4964-89a6-95fe0231349b",
   "metadata": {},
   "outputs": [
    {
     "name": "stdout",
     "output_type": "stream",
     "text": [
      "Name, Major:\n",
      "3080, 1\n",
      "3081, 1\n",
      "3082, 1\n",
      "3083, 1\n",
      "3084, 1\n",
      "3196, 1\n",
      "3197, 1\n",
      "3198, 1\n",
      "3199, 1\n"
     ]
    }
   ],
   "source": [
    "# https://developers.google.com/sheets/api/quickstart/python\n",
    "    \n",
    "# Copyright 2018 Google LLC\n",
    "#\n",
    "# Licensed under the Apache License, Version 2.0 (the \"License\");\n",
    "# you may not use this file except in compliance with the License.\n",
    "# You may obtain a copy of the License at\n",
    "#\n",
    "#     http://www.apache.org/licenses/LICENSE-2.0\n",
    "#\n",
    "# Unless required by applicable law or agreed to in writing, software\n",
    "# distributed under the License is distributed on an \"AS IS\" BASIS,\n",
    "# WITHOUT WARRANTIES OR CONDITIONS OF ANY KIND, either express or implied.\n",
    "# See the License for the specific language governing permissions and\n",
    "# limitations under the License.\n",
    "\n",
    "# [START sheets_quickstart]\n",
    "from __future__ import print_function\n",
    "import os.path\n",
    "from googleapiclient.discovery import build\n",
    "from google_auth_oauthlib.flow import InstalledAppFlow\n",
    "from google.auth.transport.requests import Request\n",
    "from google.oauth2.credentials import Credentials\n",
    "\n",
    "# If modifying these scopes, delete the file token.json.\n",
    "#SCOPES = ['https://www.googleapis.com/auth/spreadsheets.readonly']\n",
    "SCOPES = ['https://www.googleapis.com/auth/spreadsheets']\n",
    "\n",
    "# The ID and range of a sample spreadsheet.\n",
    "SAMPLE_SPREADSHEET_ID = '1irlXh0n7ErB49pcjyd52OgO5RIw7wvSBE61OVBIvTzg'\n",
    "SAMPLE_RANGE_NAME = 'EXPORT!A2:E10'\n",
    "\n",
    "def main():\n",
    "    \"\"\"Shows basic usage of the Sheets API.\n",
    "    Prints values from a sample spreadsheet.\n",
    "    \"\"\"\n",
    "    creds = None\n",
    "    # The file token.json stores the user's access and refresh tokens, and is\n",
    "    # created automatically when the authorization flow completes for the first\n",
    "    # time.\n",
    "    if os.path.exists('token.json'):\n",
    "        creds = Credentials.from_authorized_user_file('token.json', SCOPES)\n",
    "    # If there are no (valid) credentials available, let the user log in.\n",
    "    if not creds or not creds.valid:\n",
    "        if creds and creds.expired and creds.refresh_token:\n",
    "            creds.refresh(Request())\n",
    "        else:\n",
    "            flow = InstalledAppFlow.from_client_secrets_file(\n",
    "                'secrets/client_secret_920776813054-crpf1rcav3uui51kq9q1lis64glkpatj.apps.googleusercontent.com.json', SCOPES)\n",
    "            creds = flow.run_local_server(port=0)\n",
    "        # Save the credentials for the next run\n",
    "        with open('token.json', 'w') as token:\n",
    "            token.write(creds.to_json())\n",
    "\n",
    "    service = build('sheets', 'v4', credentials=creds)\n",
    "\n",
    "    # Call the Sheets API\n",
    "    sheet = service.spreadsheets()\n",
    "    result = sheet.values().get(spreadsheetId=SAMPLE_SPREADSHEET_ID,\n",
    "                                range=SAMPLE_RANGE_NAME).execute()\n",
    "    values = result.get('values', [])\n",
    "\n",
    "    if not values:\n",
    "        print('No data found.')\n",
    "    else:\n",
    "        print('Name, Major:')\n",
    "        for row in values:\n",
    "            # Print columns A and E, which correspond to indices 0 and 4.\n",
    "            print('%s, %s' % (row[0], row[4]))\n",
    "\n",
    "if __name__ == '__main__':\n",
    "    main()\n",
    "# [END sheets_quickstart]\n"
   ]
  },
  {
   "cell_type": "code",
   "execution_count": null,
   "id": "e541482c-9113-4662-b028-0f87aa4a7caa",
   "metadata": {},
   "outputs": [],
   "source": []
  }
 ],
 "metadata": {
  "kernelspec": {
   "display_name": "Python 3 (ipykernel)",
   "language": "python",
   "name": "python3"
  },
  "language_info": {
   "codemirror_mode": {
    "name": "ipython",
    "version": 3
   },
   "file_extension": ".py",
   "mimetype": "text/x-python",
   "name": "python",
   "nbconvert_exporter": "python",
   "pygments_lexer": "ipython3",
   "version": "3.9.12"
  }
 },
 "nbformat": 4,
 "nbformat_minor": 5
}
