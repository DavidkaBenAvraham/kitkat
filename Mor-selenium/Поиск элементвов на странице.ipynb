{
 "cells": [
  {
   "cell_type": "code",
   "execution_count": 1,
   "metadata": {},
   "outputs": [
    {
     "ename": "ModuleNotFoundError",
     "evalue": "No module named 'Scrapping_Morlevi'",
     "output_type": "error",
     "traceback": [
      "\u001b[1;31m---------------------------------------------------------------------------\u001b[0m",
      "\u001b[1;31mModuleNotFoundError\u001b[0m                       Traceback (most recent call last)",
      "\u001b[1;32m<ipython-input-1-29e7e2f42249>\u001b[0m in \u001b[0;36m<module>\u001b[1;34m\u001b[0m\n\u001b[1;32m----> 1\u001b[1;33m \u001b[1;32mfrom\u001b[0m \u001b[0mScrapping_Morlevi\u001b[0m\u001b[1;33m.\u001b[0m\u001b[0mscrapping_mor_main_class\u001b[0m \u001b[1;32mimport\u001b[0m \u001b[0mMorSiteScrapping\u001b[0m \u001b[1;32mas\u001b[0m \u001b[0mMor\u001b[0m\u001b[1;33m\u001b[0m\u001b[1;33m\u001b[0m\u001b[0m\n\u001b[0m\u001b[0;32m      2\u001b[0m \u001b[1;33m\u001b[0m\u001b[0m\n\u001b[0;32m      3\u001b[0m driver_settings = {\n\u001b[0;32m      4\u001b[0m             \u001b[1;34m'driver'\u001b[0m \u001b[1;33m:\u001b[0m \u001b[1;34m'firefox'\u001b[0m\u001b[1;33m,\u001b[0m\u001b[1;33m\u001b[0m\u001b[1;33m\u001b[0m\u001b[0m\n\u001b[0;32m      5\u001b[0m             \u001b[1;34m'wait'\u001b[0m \u001b[1;33m:\u001b[0m \u001b[1;34m'20'\u001b[0m\u001b[1;33m\u001b[0m\u001b[1;33m\u001b[0m\u001b[0m\n",
      "\u001b[1;31mModuleNotFoundError\u001b[0m: No module named 'Scrapping_Morlevi'"
     ]
    }
   ],
   "source": [
    "from Scrapping_Morlevi.scrapping_mor_main_class import MorSiteScrapping as Mor\n",
    "\n",
    "driver_settings = {\n",
    "            'driver' : 'firefox', \n",
    "            'wait' : '20'\n",
    "            }\n",
    "\n",
    "login_data = {\n",
    "            'email' : 'sales@aluf.co.il',\n",
    "            'password': '9643766'\n",
    "             }\n",
    "\n",
    "mor = Mor(**driver_settings)\n",
    "if mor.start(**login_data): mor.scenario('najadim')\n",
    "\n"
   ]
  }
 ],
 "metadata": {
  "kernelspec": {
   "display_name": "Python 3",
   "language": "python",
   "name": "python3"
  },
  "language_info": {
   "codemirror_mode": {
    "name": "ipython",
    "version": 3
   },
   "file_extension": ".py",
   "mimetype": "text/x-python",
   "name": "python",
   "nbconvert_exporter": "python",
   "pygments_lexer": "ipython3",
   "version": "3.7.6"
  }
 },
 "nbformat": 4,
 "nbformat_minor": 4
}
