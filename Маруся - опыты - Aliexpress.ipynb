{
 "cells": [
  {
   "cell_type": "code",
   "execution_count": 1,
   "id": "11db5ee9",
   "metadata": {
    "colab": {
     "base_uri": "https://localhost:8080/",
     "height": 373
    },
    "executionInfo": {
     "elapsed": 16,
     "status": "error",
     "timestamp": 1656270134552,
     "user": {
      "displayName": "דוד בן אברהם",
      "userId": "16469821034982192152"
     },
     "user_tz": -180
    },
    "id": "11db5ee9",
    "outputId": "3c2e6bf7-a032-4289-844f-c5eb0730d639"
   },
   "outputs": [],
   "source": [
    "#import ipywidgets as widgets\n",
    "#from IPython.display import display\n",
    "from suppliers import Supplier\n",
    "from ini_files_dir import Ini\n",
    "ini = Ini()\n",
    "\n",
    "s  = Supplier(supplier_prefics = 'aliexpress'  , ini = ini)"
   ]
  },
  {
   "cell_type": "code",
   "execution_count": 2,
   "id": "a57047f7",
   "metadata": {
    "id": "a57047f7"
   },
   "outputs": [],
   "source": [
    "\n",
    "d = s.driver"
   ]
  },
  {
   "cell_type": "code",
   "execution_count": null,
   "id": "33c285cf",
   "metadata": {},
   "outputs": [],
   "source": []
  },
  {
   "cell_type": "code",
   "execution_count": 3,
   "id": "90051251",
   "metadata": {
    "id": "90051251"
   },
   "outputs": [
    {
     "ename": "KeyError",
     "evalue": "'currency_language_shipto_locators'",
     "output_type": "error",
     "traceback": [
      "\u001b[1;31m---------------------------------------------------------------------------\u001b[0m",
      "\u001b[1;31mKeyError\u001b[0m                                  Traceback (most recent call last)",
      "Input \u001b[1;32mIn [3]\u001b[0m, in \u001b[0;36m<cell line: 2>\u001b[1;34m()\u001b[0m\n\u001b[0;32m      1\u001b[0m d \u001b[38;5;241m=\u001b[39m s\u001b[38;5;241m.\u001b[39mdriver\n\u001b[1;32m----> 2\u001b[0m l \u001b[38;5;241m=\u001b[39m \u001b[43ms\u001b[49m\u001b[38;5;241;43m.\u001b[39;49m\u001b[43mlocators\u001b[49m\u001b[43m[\u001b[49m\u001b[38;5;124;43m'\u001b[39;49m\u001b[38;5;124;43mcurrency_language_shipto_locators\u001b[39;49m\u001b[38;5;124;43m'\u001b[39;49m\u001b[43m]\u001b[49m\n",
      "\u001b[1;31mKeyError\u001b[0m: 'currency_language_shipto_locators'"
     ]
    }
   ],
   "source": [
    "\n",
    "d = s.driver\n",
    "l = s.locators['currency_language_shipto_locators']"
   ]
  },
  {
   "cell_type": "code",
   "execution_count": 4,
   "id": "a3ce0be2",
   "metadata": {
    "id": "a3ce0be2"
   },
   "outputs": [],
   "source": [
    "d.click(l['block_opener_locator'])\n",
    "d.wait(1)"
   ]
  },
  {
   "cell_type": "code",
   "execution_count": 5,
   "id": "1c38b9b7",
   "metadata": {
    "id": "1c38b9b7"
   },
   "outputs": [
    {
     "name": "stdout",
     "output_type": "stream",
     "text": [
      " \n",
      "                                Возникла ошибка  Message: Element <div class=\"filter-list-container\"> could not be scrolled into view\n",
      "Stacktrace:\n",
      "WebDriverError@chrome://remote/content/shared/webdriver/Errors.jsm:186:5\n",
      "ElementNotInteractableError@chrome://remote/content/shared/webdriver/Errors.jsm:296:5\n",
      "webdriverClickElement@chrome://remote/content/marionette/interaction.js:156:11\n",
      "interaction.clickElement@chrome://remote/content/marionette/interaction.js:125:11\n",
      "clickElement@chrome://remote/content/marionette/actors/MarionetteCommandsChild.jsm:203:24\n",
      "receiveMessage@chrome://remote/content/marionette/actors/MarionetteCommandsChild.jsm:91:31\n",
      " \n",
      "                                ----------------------\n",
      "                                элемент:\n",
      "                                <selenium.webdriver.remote.webelement.WebElement (session=\"7ae49368-42e2-404b-b5d3-31c9f6131eaa\", element=\"7ee44a13-a65e-4211-b295-c3a26e117948\")> ne обязательно должен нажиматься\n",
      "                                он часть списка \n",
      "                                [<selenium.webdriver.remote.webelement.WebElement (session=\"7ae49368-42e2-404b-b5d3-31c9f6131eaa\", element=\"eb3eec50-c2c3-4ded-bc2d-c11722602571\")>, <selenium.webdriver.remote.webelement.WebElement (session=\"7ae49368-42e2-404b-b5d3-31c9f6131eaa\", element=\"7ee44a13-a65e-4211-b295-c3a26e117948\")>, <selenium.webdriver.remote.webelement.WebElement (session=\"7ae49368-42e2-404b-b5d3-31c9f6131eaa\", element=\"30449268-4ab7-4e95-a5ff-6cbcdef570c7\")>]\n",
      "                                \n",
      " \n",
      "                                Возникла ошибка  Message: Element <div class=\"filter-list-container\"> could not be scrolled into view\n",
      "Stacktrace:\n",
      "WebDriverError@chrome://remote/content/shared/webdriver/Errors.jsm:186:5\n",
      "ElementNotInteractableError@chrome://remote/content/shared/webdriver/Errors.jsm:296:5\n",
      "webdriverClickElement@chrome://remote/content/marionette/interaction.js:156:11\n",
      "interaction.clickElement@chrome://remote/content/marionette/interaction.js:125:11\n",
      "clickElement@chrome://remote/content/marionette/actors/MarionetteCommandsChild.jsm:203:24\n",
      "receiveMessage@chrome://remote/content/marionette/actors/MarionetteCommandsChild.jsm:91:31\n",
      " \n",
      "                                ----------------------\n",
      "                                элемент:\n",
      "                                <selenium.webdriver.remote.webelement.WebElement (session=\"7ae49368-42e2-404b-b5d3-31c9f6131eaa\", element=\"30449268-4ab7-4e95-a5ff-6cbcdef570c7\")> ne обязательно должен нажиматься\n",
      "                                он часть списка \n",
      "                                [<selenium.webdriver.remote.webelement.WebElement (session=\"7ae49368-42e2-404b-b5d3-31c9f6131eaa\", element=\"eb3eec50-c2c3-4ded-bc2d-c11722602571\")>, <selenium.webdriver.remote.webelement.WebElement (session=\"7ae49368-42e2-404b-b5d3-31c9f6131eaa\", element=\"7ee44a13-a65e-4211-b295-c3a26e117948\")>, <selenium.webdriver.remote.webelement.WebElement (session=\"7ae49368-42e2-404b-b5d3-31c9f6131eaa\", element=\"30449268-4ab7-4e95-a5ff-6cbcdef570c7\")>]\n",
      "                                \n"
     ]
    }
   ],
   "source": [
    "d.click(l['shipto_locator'])\n",
    "d.wait(1)"
   ]
  },
  {
   "cell_type": "code",
   "execution_count": 6,
   "id": "a4314527",
   "metadata": {
    "id": "a4314527"
   },
   "outputs": [],
   "source": [
    "d.click(l['language_locator'])\n",
    "d.wait(1)"
   ]
  },
  {
   "cell_type": "code",
   "execution_count": 7,
   "id": "f28d2219",
   "metadata": {
    "id": "f28d2219"
   },
   "outputs": [],
   "source": [
    "d.click(l['currency_locator'])\n",
    "d.wait(1)"
   ]
  },
  {
   "cell_type": "code",
   "execution_count": 8,
   "id": "5b0e9e3f",
   "metadata": {
    "id": "5b0e9e3f"
   },
   "outputs": [],
   "source": [
    "d.click(l['save_button_locator'])\n",
    "d.wait(1)"
   ]
  },
  {
   "cell_type": "code",
   "execution_count": 7,
   "id": "a26788cd",
   "metadata": {
    "id": "a26788cd"
   },
   "outputs": [
    {
     "data": {
      "text/plain": [
       "True"
      ]
     },
     "execution_count": 7,
     "metadata": {},
     "output_type": "execute_result"
    }
   ],
   "source": [
    "d.get_url('https://ksp.co.il')"
   ]
  },
  {
   "cell_type": "code",
   "execution_count": 8,
   "id": "7492ad6b",
   "metadata": {
    "id": "7492ad6b"
   },
   "outputs": [],
   "source": [
    "import suppliers.execute_scenaries as ex"
   ]
  },
  {
   "cell_type": "code",
   "execution_count": 9,
   "id": "657a0be7",
   "metadata": {
    "id": "657a0be7"
   },
   "outputs": [
    {
     "ename": "JSONDecodeError",
     "evalue": "Expecting ',' delimiter: line 9 column 5 (char 179)",
     "output_type": "error",
     "traceback": [
      "\u001b[1;31m---------------------------------------------------------------------------\u001b[0m",
      "\u001b[1;31mJSONDecodeError\u001b[0m                           Traceback (most recent call last)",
      "Input \u001b[1;32mIn [9]\u001b[0m, in \u001b[0;36m<cell line: 1>\u001b[1;34m()\u001b[0m\n\u001b[1;32m----> 1\u001b[0m \u001b[43mex\u001b[49m\u001b[38;5;241;43m.\u001b[39;49m\u001b[43mexecute_list_of_scenaries\u001b[49m\u001b[43m(\u001b[49m\u001b[43ms\u001b[49m\u001b[43m)\u001b[49m\n",
      "File \u001b[1;32m~\\OneDrive\\REPOS\\DavidkaBenAvraham\\Katia\\Aluf\\suppliers\\execute_scenaries.py:69\u001b[0m, in \u001b[0;36mexecute_list_of_scenaries\u001b[1;34m(Supplier)\u001b[0m\n\u001b[0;32m     67\u001b[0m \u001b[38;5;28;01mif\u001b[39;00m \u001b[38;5;28misinstance\u001b[39m(scenario_files, \u001b[38;5;28mstr\u001b[39m):\n\u001b[0;32m     68\u001b[0m     \u001b[38;5;124;03m''' если в сценарии есть всего один файл '''\u001b[39;00m\n\u001b[1;32m---> 69\u001b[0m     \u001b[43mrun\u001b[49m\u001b[43m(\u001b[49m\u001b[43mscenario_files\u001b[49m\u001b[43m)\u001b[49m\n\u001b[0;32m     70\u001b[0m \u001b[38;5;28;01melse\u001b[39;00m:\n\u001b[0;32m     71\u001b[0m     \u001b[38;5;28;01mfor\u001b[39;00m json_file \u001b[38;5;129;01min\u001b[39;00m [scenario_files]: \n",
      "File \u001b[1;32m~\\OneDrive\\REPOS\\DavidkaBenAvraham\\Katia\\Aluf\\suppliers\\execute_scenaries.py:49\u001b[0m, in \u001b[0;36mexecute_list_of_scenaries.<locals>.run\u001b[1;34m(json_file)\u001b[0m\n\u001b[0;32m     48\u001b[0m \u001b[38;5;28;01mdef\u001b[39;00m \u001b[38;5;21mrun\u001b[39m(json_file) \u001b[38;5;241m-\u001b[39m\u001b[38;5;241m>\u001b[39m \u001b[38;5;28mbool\u001b[39m:\n\u001b[1;32m---> 49\u001b[0m     s\u001b[38;5;241m.\u001b[39mscenaries \u001b[38;5;241m=\u001b[39m \u001b[43mjson\u001b[49m\u001b[38;5;241;43m.\u001b[39;49m\u001b[43mloads\u001b[49m\u001b[43m(\u001b[49m\u001b[43mPath\u001b[49m\u001b[43m(\u001b[49m\u001b[43ms\u001b[49m\u001b[38;5;241;43m.\u001b[39;49m\u001b[43mini\u001b[49m\u001b[38;5;241;43m.\u001b[39;49m\u001b[43mpaths\u001b[49m\u001b[38;5;241;43m.\u001b[39;49m\u001b[43mini_files_dir\u001b[49m\u001b[43m \u001b[49m\u001b[43m,\u001b[49m\u001b[43m \u001b[49m\u001b[38;5;124;43mf\u001b[39;49m\u001b[38;5;124;43m'''\u001b[39;49m\u001b[38;5;132;43;01m{\u001b[39;49;00m\u001b[43mjson_file\u001b[49m\u001b[38;5;132;43;01m}\u001b[39;49;00m\u001b[38;5;124;43m'''\u001b[39;49m\u001b[43m)\u001b[49m\u001b[43m)\u001b[49m\n\u001b[0;32m     50\u001b[0m     s\u001b[38;5;241m.\u001b[39mscenario_category \u001b[38;5;241m=\u001b[39m json_file\u001b[38;5;241m.\u001b[39msplit(\u001b[38;5;124m'\u001b[39m\u001b[38;5;124m_\u001b[39m\u001b[38;5;124m'\u001b[39m)[\u001b[38;5;241m2\u001b[39m]\n\u001b[0;32m     51\u001b[0m     \u001b[38;5;124;03m''' третье слово в названии файла сценариев это категория товаров '''\u001b[39;00m\n",
      "File \u001b[1;32m~\\OneDrive\\REPOS\\DavidkaBenAvraham\\Katia\\Aluf\\execute_json.py:20\u001b[0m, in \u001b[0;36mloads\u001b[1;34m(path)\u001b[0m\n\u001b[0;32m     18\u001b[0m \u001b[38;5;124;03m''' получаю объект Path - не str! '''\u001b[39;00m\n\u001b[0;32m     19\u001b[0m \u001b[38;5;28;01mwith\u001b[39;00m path\u001b[38;5;241m.\u001b[39mabsolute()\u001b[38;5;241m.\u001b[39mopen(encoding\u001b[38;5;241m=\u001b[39m\u001b[38;5;124m'\u001b[39m\u001b[38;5;124mutf-8\u001b[39m\u001b[38;5;124m'\u001b[39m) \u001b[38;5;28;01mas\u001b[39;00m f:\n\u001b[1;32m---> 20\u001b[0m     data \u001b[38;5;241m=\u001b[39m \u001b[43mjson\u001b[49m\u001b[38;5;241;43m.\u001b[39;49m\u001b[43mloads\u001b[49m\u001b[43m(\u001b[49m\u001b[43mf\u001b[49m\u001b[38;5;241;43m.\u001b[39;49m\u001b[43mread\u001b[49m\u001b[43m(\u001b[49m\u001b[43m)\u001b[49m\u001b[43m)\u001b[49m\n\u001b[0;32m     21\u001b[0m \u001b[38;5;28;01mreturn\u001b[39;00m data\n",
      "File \u001b[1;32m~\\anaconda3\\lib\\json\\__init__.py:346\u001b[0m, in \u001b[0;36mloads\u001b[1;34m(s, cls, object_hook, parse_float, parse_int, parse_constant, object_pairs_hook, **kw)\u001b[0m\n\u001b[0;32m    341\u001b[0m     s \u001b[38;5;241m=\u001b[39m s\u001b[38;5;241m.\u001b[39mdecode(detect_encoding(s), \u001b[38;5;124m'\u001b[39m\u001b[38;5;124msurrogatepass\u001b[39m\u001b[38;5;124m'\u001b[39m)\n\u001b[0;32m    343\u001b[0m \u001b[38;5;28;01mif\u001b[39;00m (\u001b[38;5;28mcls\u001b[39m \u001b[38;5;129;01mis\u001b[39;00m \u001b[38;5;28;01mNone\u001b[39;00m \u001b[38;5;129;01mand\u001b[39;00m object_hook \u001b[38;5;129;01mis\u001b[39;00m \u001b[38;5;28;01mNone\u001b[39;00m \u001b[38;5;129;01mand\u001b[39;00m\n\u001b[0;32m    344\u001b[0m         parse_int \u001b[38;5;129;01mis\u001b[39;00m \u001b[38;5;28;01mNone\u001b[39;00m \u001b[38;5;129;01mand\u001b[39;00m parse_float \u001b[38;5;129;01mis\u001b[39;00m \u001b[38;5;28;01mNone\u001b[39;00m \u001b[38;5;129;01mand\u001b[39;00m\n\u001b[0;32m    345\u001b[0m         parse_constant \u001b[38;5;129;01mis\u001b[39;00m \u001b[38;5;28;01mNone\u001b[39;00m \u001b[38;5;129;01mand\u001b[39;00m object_pairs_hook \u001b[38;5;129;01mis\u001b[39;00m \u001b[38;5;28;01mNone\u001b[39;00m \u001b[38;5;129;01mand\u001b[39;00m \u001b[38;5;129;01mnot\u001b[39;00m kw):\n\u001b[1;32m--> 346\u001b[0m     \u001b[38;5;28;01mreturn\u001b[39;00m \u001b[43m_default_decoder\u001b[49m\u001b[38;5;241;43m.\u001b[39;49m\u001b[43mdecode\u001b[49m\u001b[43m(\u001b[49m\u001b[43ms\u001b[49m\u001b[43m)\u001b[49m\n\u001b[0;32m    347\u001b[0m \u001b[38;5;28;01mif\u001b[39;00m \u001b[38;5;28mcls\u001b[39m \u001b[38;5;129;01mis\u001b[39;00m \u001b[38;5;28;01mNone\u001b[39;00m:\n\u001b[0;32m    348\u001b[0m     \u001b[38;5;28mcls\u001b[39m \u001b[38;5;241m=\u001b[39m JSONDecoder\n",
      "File \u001b[1;32m~\\anaconda3\\lib\\json\\decoder.py:337\u001b[0m, in \u001b[0;36mJSONDecoder.decode\u001b[1;34m(self, s, _w)\u001b[0m\n\u001b[0;32m    332\u001b[0m \u001b[38;5;28;01mdef\u001b[39;00m \u001b[38;5;21mdecode\u001b[39m(\u001b[38;5;28mself\u001b[39m, s, _w\u001b[38;5;241m=\u001b[39mWHITESPACE\u001b[38;5;241m.\u001b[39mmatch):\n\u001b[0;32m    333\u001b[0m     \u001b[38;5;124;03m\"\"\"Return the Python representation of ``s`` (a ``str`` instance\u001b[39;00m\n\u001b[0;32m    334\u001b[0m \u001b[38;5;124;03m    containing a JSON document).\u001b[39;00m\n\u001b[0;32m    335\u001b[0m \n\u001b[0;32m    336\u001b[0m \u001b[38;5;124;03m    \"\"\"\u001b[39;00m\n\u001b[1;32m--> 337\u001b[0m     obj, end \u001b[38;5;241m=\u001b[39m \u001b[38;5;28;43mself\u001b[39;49m\u001b[38;5;241;43m.\u001b[39;49m\u001b[43mraw_decode\u001b[49m\u001b[43m(\u001b[49m\u001b[43ms\u001b[49m\u001b[43m,\u001b[49m\u001b[43m \u001b[49m\u001b[43midx\u001b[49m\u001b[38;5;241;43m=\u001b[39;49m\u001b[43m_w\u001b[49m\u001b[43m(\u001b[49m\u001b[43ms\u001b[49m\u001b[43m,\u001b[49m\u001b[43m \u001b[49m\u001b[38;5;241;43m0\u001b[39;49m\u001b[43m)\u001b[49m\u001b[38;5;241;43m.\u001b[39;49m\u001b[43mend\u001b[49m\u001b[43m(\u001b[49m\u001b[43m)\u001b[49m\u001b[43m)\u001b[49m\n\u001b[0;32m    338\u001b[0m     end \u001b[38;5;241m=\u001b[39m _w(s, end)\u001b[38;5;241m.\u001b[39mend()\n\u001b[0;32m    339\u001b[0m     \u001b[38;5;28;01mif\u001b[39;00m end \u001b[38;5;241m!=\u001b[39m \u001b[38;5;28mlen\u001b[39m(s):\n",
      "File \u001b[1;32m~\\anaconda3\\lib\\json\\decoder.py:353\u001b[0m, in \u001b[0;36mJSONDecoder.raw_decode\u001b[1;34m(self, s, idx)\u001b[0m\n\u001b[0;32m    344\u001b[0m \u001b[38;5;124;03m\"\"\"Decode a JSON document from ``s`` (a ``str`` beginning with\u001b[39;00m\n\u001b[0;32m    345\u001b[0m \u001b[38;5;124;03ma JSON document) and return a 2-tuple of the Python\u001b[39;00m\n\u001b[0;32m    346\u001b[0m \u001b[38;5;124;03mrepresentation and the index in ``s`` where the document ended.\u001b[39;00m\n\u001b[1;32m   (...)\u001b[0m\n\u001b[0;32m    350\u001b[0m \n\u001b[0;32m    351\u001b[0m \u001b[38;5;124;03m\"\"\"\u001b[39;00m\n\u001b[0;32m    352\u001b[0m \u001b[38;5;28;01mtry\u001b[39;00m:\n\u001b[1;32m--> 353\u001b[0m     obj, end \u001b[38;5;241m=\u001b[39m \u001b[38;5;28;43mself\u001b[39;49m\u001b[38;5;241;43m.\u001b[39;49m\u001b[43mscan_once\u001b[49m\u001b[43m(\u001b[49m\u001b[43ms\u001b[49m\u001b[43m,\u001b[49m\u001b[43m \u001b[49m\u001b[43midx\u001b[49m\u001b[43m)\u001b[49m\n\u001b[0;32m    354\u001b[0m \u001b[38;5;28;01mexcept\u001b[39;00m \u001b[38;5;167;01mStopIteration\u001b[39;00m \u001b[38;5;28;01mas\u001b[39;00m err:\n\u001b[0;32m    355\u001b[0m     \u001b[38;5;28;01mraise\u001b[39;00m JSONDecodeError(\u001b[38;5;124m\"\u001b[39m\u001b[38;5;124mExpecting value\u001b[39m\u001b[38;5;124m\"\u001b[39m, s, err\u001b[38;5;241m.\u001b[39mvalue) \u001b[38;5;28;01mfrom\u001b[39;00m \u001b[38;5;28mNone\u001b[39m\n",
      "\u001b[1;31mJSONDecodeError\u001b[0m: Expecting ',' delimiter: line 9 column 5 (char 179)"
     ]
    }
   ],
   "source": [
    "ex.execute_list_of_scenaries(s)"
   ]
  },
  {
   "cell_type": "code",
   "execution_count": null,
   "id": "c7c9d608",
   "metadata": {
    "id": "c7c9d608"
   },
   "outputs": [],
   "source": []
  },
  {
   "cell_type": "code",
   "execution_count": null,
   "id": "5852dda6",
   "metadata": {
    "id": "5852dda6"
   },
   "outputs": [],
   "source": []
  },
  {
   "cell_type": "code",
   "execution_count": null,
   "id": "02b5bc87",
   "metadata": {
    "id": "02b5bc87"
   },
   "outputs": [],
   "source": []
  },
  {
   "cell_type": "code",
   "execution_count": null,
   "id": "0caec456",
   "metadata": {
    "id": "0caec456"
   },
   "outputs": [],
   "source": []
  },
  {
   "cell_type": "code",
   "execution_count": null,
   "id": "f18f2ca0",
   "metadata": {
    "id": "f18f2ca0"
   },
   "outputs": [],
   "source": []
  },
  {
   "cell_type": "code",
   "execution_count": null,
   "id": "7c710744",
   "metadata": {
    "id": "7c710744"
   },
   "outputs": [],
   "source": []
  },
  {
   "cell_type": "code",
   "execution_count": null,
   "id": "08a3d401",
   "metadata": {
    "id": "08a3d401"
   },
   "outputs": [],
   "source": []
  },
  {
   "cell_type": "code",
   "execution_count": null,
   "id": "b5492956",
   "metadata": {
    "id": "b5492956"
   },
   "outputs": [],
   "source": []
  },
  {
   "cell_type": "code",
   "execution_count": null,
   "id": "d0a9c8c0",
   "metadata": {
    "id": "d0a9c8c0"
   },
   "outputs": [],
   "source": [
    "\n",
    "from aliexpress_api import AliexpressApi, models\n",
    "\n",
    "\n",
    "aliexpress = AliexpressApi(\"33759699\", \"593acdd5414f1845b464d87353fbad44\", models.Language.EN, models.Currency.USD, \"50000201340tQdpjudpqBySjYiAphkyTigGwm1IRuCGYjSpdPuQ011d78531N2WmSpjK\")\n",
    "\n"
   ]
  },
  {
   "cell_type": "code",
   "execution_count": null,
   "id": "af9e6758",
   "metadata": {
    "id": "af9e6758"
   },
   "outputs": [],
   "source": [
    "print(aliexpress)"
   ]
  },
  {
   "cell_type": "code",
   "execution_count": null,
   "id": "58658a23",
   "metadata": {
    "id": "58658a23"
   },
   "outputs": [],
   "source": [
    "a = aliexpress.get_products_details(['1000006468625', 'https://aliexpress.com/item/1005003091506814.html'])"
   ]
  },
  {
   "cell_type": "code",
   "execution_count": null,
   "id": "1864cf86",
   "metadata": {
    "id": "1864cf86"
   },
   "outputs": [],
   "source": [
    "parent_categories = aliexpress.get_parent_categories()"
   ]
  },
  {
   "cell_type": "code",
   "execution_count": null,
   "id": "c78fe020",
   "metadata": {
    "id": "c78fe020"
   },
   "outputs": [],
   "source": []
  }
 ],
 "metadata": {
  "colab": {
   "name": "Маруся - опыты.ipynb",
   "provenance": []
  },
  "kernelspec": {
   "display_name": "Python 3 (ipykernel)",
   "language": "python",
   "name": "python3"
  },
  "language_info": {
   "codemirror_mode": {
    "name": "ipython",
    "version": 3
   },
   "file_extension": ".py",
   "mimetype": "text/x-python",
   "name": "python",
   "nbconvert_exporter": "python",
   "pygments_lexer": "ipython3",
   "version": "3.9.12"
  }
 },
 "nbformat": 4,
 "nbformat_minor": 5
}
