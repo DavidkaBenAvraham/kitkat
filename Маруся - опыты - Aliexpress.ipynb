{
 "cells": [
  {
   "cell_type": "code",
   "execution_count": 1,
   "id": "11db5ee9",
   "metadata": {
    "colab": {
     "base_uri": "https://localhost:8080/",
     "height": 373
    },
    "executionInfo": {
     "elapsed": 16,
     "status": "error",
     "timestamp": 1656270134552,
     "user": {
      "displayName": "דוד בן אברהם",
      "userId": "16469821034982192152"
     },
     "user_tz": -180
    },
    "id": "11db5ee9",
    "outputId": "3c2e6bf7-a032-4289-844f-c5eb0730d639"
   },
   "outputs": [
    {
     "name": "stderr",
     "output_type": "stream",
     "text": [
      "2022-07-15 19:26:37.770 | DEBUG    | web_driver:_load_cookies_from_file:407 -  cookies_file_path\n",
      "        ---------------------------\n",
      "        cookies_file_path} \n"
     ]
    },
    {
     "ename": "InvalidCookieDomainException",
     "evalue": "Message: Document is cookie-averse\nStacktrace:\nWebDriverError@chrome://remote/content/shared/webdriver/Errors.jsm:186:5\nInvalidCookieDomainError@chrome://remote/content/shared/webdriver/Errors.jsm:326:5\nGeckoDriver.prototype.addCookie@chrome://remote/content/marionette/driver.js:1931:11\n",
     "output_type": "error",
     "traceback": [
      "\u001b[1;31m---------------------------------------------------------------------------\u001b[0m",
      "\u001b[1;31mInvalidCookieDomainException\u001b[0m              Traceback (most recent call last)",
      "\u001b[1;32mc:\\Users\\user\\OneDrive\\REPOS\\DavidkaBenAvraham\\kitkat\\Маруся - опыты - Aliexpress.ipynb Ячейка 1\u001b[0m in \u001b[0;36m<cell line: 7>\u001b[1;34m()\u001b[0m\n\u001b[0;32m      <a href='vscode-notebook-cell:/c%3A/Users/user/OneDrive/REPOS/DavidkaBenAvraham/kitkat/%D0%9C%D0%B0%D1%80%D1%83%D1%81%D1%8F%20-%20%D0%BE%D0%BF%D1%8B%D1%82%D1%8B%20-%20Aliexpress.ipynb#ch0000000?line=3'>4</a>\u001b[0m \u001b[39mfrom\u001b[39;00m \u001b[39mini_files_dir\u001b[39;00m \u001b[39mimport\u001b[39;00m Ini\n\u001b[0;32m      <a href='vscode-notebook-cell:/c%3A/Users/user/OneDrive/REPOS/DavidkaBenAvraham/kitkat/%D0%9C%D0%B0%D1%80%D1%83%D1%81%D1%8F%20-%20%D0%BE%D0%BF%D1%8B%D1%82%D1%8B%20-%20Aliexpress.ipynb#ch0000000?line=4'>5</a>\u001b[0m ini \u001b[39m=\u001b[39m Ini()\n\u001b[1;32m----> <a href='vscode-notebook-cell:/c%3A/Users/user/OneDrive/REPOS/DavidkaBenAvraham/kitkat/%D0%9C%D0%B0%D1%80%D1%83%D1%81%D1%8F%20-%20%D0%BE%D0%BF%D1%8B%D1%82%D1%8B%20-%20Aliexpress.ipynb#ch0000000?line=6'>7</a>\u001b[0m s  \u001b[39m=\u001b[39m Supplier(supplier_prefics \u001b[39m=\u001b[39;49m \u001b[39m'\u001b[39;49m\u001b[39maliexpress\u001b[39;49m\u001b[39m'\u001b[39;49m  , ini \u001b[39m=\u001b[39;49m ini)\n",
      "File \u001b[1;32m<attrs generated init suppliers.Supplier>:21\u001b[0m, in \u001b[0;36m__init__\u001b[1;34m(self, supplier_prefics, ini)\u001b[0m\n\u001b[0;32m     19\u001b[0m \u001b[39mself\u001b[39m\u001b[39m.\u001b[39mp \u001b[39m=\u001b[39m attr_dict[\u001b[39m'\u001b[39m\u001b[39mp\u001b[39m\u001b[39m'\u001b[39m]\u001b[39m.\u001b[39mdefault\n\u001b[0;32m     20\u001b[0m \u001b[39mself\u001b[39m\u001b[39m.\u001b[39mc \u001b[39m=\u001b[39m attr_dict[\u001b[39m'\u001b[39m\u001b[39mc\u001b[39m\u001b[39m'\u001b[39m]\u001b[39m.\u001b[39mdefault\n\u001b[1;32m---> 21\u001b[0m \u001b[39mself\u001b[39;49m\u001b[39m.\u001b[39;49m__attrs_post_init__()\n",
      "File \u001b[1;32mc:\\Users\\user\\OneDrive\\REPOS\\DavidkaBenAvraham\\kitkat\\suppliers\\__init__.py:138\u001b[0m, in \u001b[0;36mSupplier.__attrs_post_init__\u001b[1;34m(self, *args, **kwards)\u001b[0m\n\u001b[0;32m    133\u001b[0m \u001b[39mself\u001b[39m\u001b[39m.\u001b[39mrelated_functions \u001b[39m=\u001b[39m importlib\u001b[39m.\u001b[39mimport_module(\u001b[39mf\u001b[39m\u001b[39m'''\u001b[39m\u001b[39msuppliers.\u001b[39m\u001b[39m{\u001b[39;00m\u001b[39mself\u001b[39m\u001b[39m.\u001b[39msupplier_prefics\u001b[39m}\u001b[39;00m\u001b[39m'''\u001b[39m)\n\u001b[0;32m    134\u001b[0m \u001b[39m''' подгружаю релевантные функции для конкретного поствщика '''\u001b[39;00m\n\u001b[1;32m--> 138\u001b[0m \u001b[39mif\u001b[39;00m \u001b[39mself\u001b[39m\u001b[39m.\u001b[39msettings[\u001b[39m'\u001b[39m\u001b[39mif_login\u001b[39m\u001b[39m'\u001b[39m]: \u001b[39mself\u001b[39;49m\u001b[39m.\u001b[39;49mrelated_functions\u001b[39m.\u001b[39;49mlogin(\u001b[39mself\u001b[39;49m)\n\u001b[0;32m    139\u001b[0m \u001b[39m''' логин '''\u001b[39;00m\n\u001b[0;32m    141\u001b[0m logger\u001b[39m.\u001b[39minfo(\u001b[39mf\u001b[39m\u001b[39m'''\u001b[39m\u001b[39mРодился объект supplier \u001b[39m\u001b[39m{\u001b[39;00m\u001b[39mself\u001b[39m\u001b[39m.\u001b[39msupplier_prefics\u001b[39m}\u001b[39;00m\u001b[39m'''\u001b[39m)\n",
      "File \u001b[1;32mc:\\Users\\user\\OneDrive\\REPOS\\DavidkaBenAvraham\\kitkat\\suppliers\\aliexpress\\__init__.py:73\u001b[0m, in \u001b[0;36mlogin\u001b[1;34m(s)\u001b[0m\n\u001b[0;32m     70\u001b[0m     _d\u001b[39m.\u001b[39mdump_cookies_to_file()\n\u001b[0;32m     72\u001b[0m \u001b[39m#_login()\u001b[39;00m\n\u001b[1;32m---> 73\u001b[0m _set_language_currency_shipto()\n",
      "File \u001b[1;32mc:\\Users\\user\\OneDrive\\REPOS\\DavidkaBenAvraham\\kitkat\\suppliers\\aliexpress\\__init__.py:60\u001b[0m, in \u001b[0;36mlogin.<locals>._set_language_currency_shipto\u001b[1;34m()\u001b[0m\n\u001b[0;32m     54\u001b[0m _d \u001b[39m=\u001b[39m s\u001b[39m.\u001b[39mdriver\n\u001b[0;32m     56\u001b[0m \u001b[39m'''@todo\u001b[39;00m\n\u001b[0;32m     57\u001b[0m \u001b[39m    сделать механизм \u001b[39;00m\n\u001b[0;32m     58\u001b[0m \u001b[39m    сохранения загрузки файлов печенек\u001b[39;00m\n\u001b[0;32m     59\u001b[0m \u001b[39m'''\u001b[39;00m\n\u001b[1;32m---> 60\u001b[0m _d\u001b[39m.\u001b[39;49mload_cookies_from_file(_d\u001b[39m.\u001b[39;49mcookies_file_path)\n\u001b[0;32m     61\u001b[0m _d\u001b[39m.\u001b[39mget_url(\u001b[39m'\u001b[39m\u001b[39mhttps://www.aliexpress.com\u001b[39m\u001b[39m'\u001b[39m)\n\u001b[0;32m     64\u001b[0m \u001b[39mif\u001b[39;00m _d\u001b[39m.\u001b[39mclick(_[\u001b[39m'\u001b[39m\u001b[39mblock_opener_locator\u001b[39m\u001b[39m'\u001b[39m]):_d\u001b[39m.\u001b[39mwait(\u001b[39m1\u001b[39m)\n",
      "File \u001b[1;32mc:\\Users\\user\\OneDrive\\REPOS\\DavidkaBenAvraham\\kitkat\\web_driver\\__init__.py:416\u001b[0m, in \u001b[0;36mDriver._load_cookies_from_file\u001b[1;34m(self, cookies_file_path)\u001b[0m\n\u001b[0;32m    414\u001b[0m \u001b[39mself\u001b[39m\u001b[39m.\u001b[39mcookies \u001b[39m=\u001b[39m pickle\u001b[39m.\u001b[39mload(\u001b[39mopen\u001b[39m(cookies_file_path , \u001b[39m'\u001b[39m\u001b[39mrb\u001b[39m\u001b[39m'\u001b[39m))\n\u001b[0;32m    415\u001b[0m \u001b[39mfor\u001b[39;00m cookie \u001b[39min\u001b[39;00m \u001b[39mself\u001b[39m\u001b[39m.\u001b[39mcookies:\n\u001b[1;32m--> 416\u001b[0m         \u001b[39mself\u001b[39;49m\u001b[39m.\u001b[39;49mdriver\u001b[39m.\u001b[39;49madd_cookie(cookie)  \n\u001b[0;32m    417\u001b[0m         \u001b[39mreturn\u001b[39;00m \u001b[39mTrue\u001b[39;00m\n",
      "File \u001b[1;32mc:\\Users\\user\\anaconda3\\lib\\site-packages\\selenium\\webdriver\\remote\\webdriver.py:1134\u001b[0m, in \u001b[0;36mWebDriver.add_cookie\u001b[1;34m(self, cookie_dict)\u001b[0m\n\u001b[0;32m   1132\u001b[0m \u001b[39mif\u001b[39;00m \u001b[39m'\u001b[39m\u001b[39msameSite\u001b[39m\u001b[39m'\u001b[39m \u001b[39min\u001b[39;00m cookie_dict:\n\u001b[0;32m   1133\u001b[0m     \u001b[39massert\u001b[39;00m cookie_dict[\u001b[39m'\u001b[39m\u001b[39msameSite\u001b[39m\u001b[39m'\u001b[39m] \u001b[39min\u001b[39;00m [\u001b[39m'\u001b[39m\u001b[39mStrict\u001b[39m\u001b[39m'\u001b[39m, \u001b[39m'\u001b[39m\u001b[39mLax\u001b[39m\u001b[39m'\u001b[39m, \u001b[39m'\u001b[39m\u001b[39mNone\u001b[39m\u001b[39m'\u001b[39m]\n\u001b[1;32m-> 1134\u001b[0m     \u001b[39mself\u001b[39;49m\u001b[39m.\u001b[39;49mexecute(Command\u001b[39m.\u001b[39;49mADD_COOKIE, {\u001b[39m'\u001b[39;49m\u001b[39mcookie\u001b[39;49m\u001b[39m'\u001b[39;49m: cookie_dict})\n\u001b[0;32m   1135\u001b[0m \u001b[39melse\u001b[39;00m:\n\u001b[0;32m   1136\u001b[0m     \u001b[39mself\u001b[39m\u001b[39m.\u001b[39mexecute(Command\u001b[39m.\u001b[39mADD_COOKIE, {\u001b[39m'\u001b[39m\u001b[39mcookie\u001b[39m\u001b[39m'\u001b[39m: cookie_dict})\n",
      "File \u001b[1;32mc:\\Users\\user\\anaconda3\\lib\\site-packages\\selenium\\webdriver\\remote\\webdriver.py:430\u001b[0m, in \u001b[0;36mWebDriver.execute\u001b[1;34m(self, driver_command, params)\u001b[0m\n\u001b[0;32m    428\u001b[0m response \u001b[39m=\u001b[39m \u001b[39mself\u001b[39m\u001b[39m.\u001b[39mcommand_executor\u001b[39m.\u001b[39mexecute(driver_command, params)\n\u001b[0;32m    429\u001b[0m \u001b[39mif\u001b[39;00m response:\n\u001b[1;32m--> 430\u001b[0m     \u001b[39mself\u001b[39;49m\u001b[39m.\u001b[39;49merror_handler\u001b[39m.\u001b[39;49mcheck_response(response)\n\u001b[0;32m    431\u001b[0m     response[\u001b[39m'\u001b[39m\u001b[39mvalue\u001b[39m\u001b[39m'\u001b[39m] \u001b[39m=\u001b[39m \u001b[39mself\u001b[39m\u001b[39m.\u001b[39m_unwrap_value(\n\u001b[0;32m    432\u001b[0m         response\u001b[39m.\u001b[39mget(\u001b[39m'\u001b[39m\u001b[39mvalue\u001b[39m\u001b[39m'\u001b[39m, \u001b[39mNone\u001b[39;00m))\n\u001b[0;32m    433\u001b[0m     \u001b[39mreturn\u001b[39;00m response\n",
      "File \u001b[1;32mc:\\Users\\user\\anaconda3\\lib\\site-packages\\selenium\\webdriver\\remote\\errorhandler.py:247\u001b[0m, in \u001b[0;36mErrorHandler.check_response\u001b[1;34m(self, response)\u001b[0m\n\u001b[0;32m    245\u001b[0m         alert_text \u001b[39m=\u001b[39m value[\u001b[39m'\u001b[39m\u001b[39malert\u001b[39m\u001b[39m'\u001b[39m]\u001b[39m.\u001b[39mget(\u001b[39m'\u001b[39m\u001b[39mtext\u001b[39m\u001b[39m'\u001b[39m)\n\u001b[0;32m    246\u001b[0m     \u001b[39mraise\u001b[39;00m exception_class(message, screen, stacktrace, alert_text)  \u001b[39m# type: ignore[call-arg]  # mypy is not smart enough here\u001b[39;00m\n\u001b[1;32m--> 247\u001b[0m \u001b[39mraise\u001b[39;00m exception_class(message, screen, stacktrace)\n",
      "\u001b[1;31mInvalidCookieDomainException\u001b[0m: Message: Document is cookie-averse\nStacktrace:\nWebDriverError@chrome://remote/content/shared/webdriver/Errors.jsm:186:5\nInvalidCookieDomainError@chrome://remote/content/shared/webdriver/Errors.jsm:326:5\nGeckoDriver.prototype.addCookie@chrome://remote/content/marionette/driver.js:1931:11\n"
     ]
    }
   ],
   "source": [
    "#import ipywidgets as widgets\n",
    "#from IPython.display import display\n",
    "from suppliers import Supplier\n",
    "from ini_files_dir import Ini\n",
    "ini = Ini()\n",
    "\n",
    "s  = Supplier(supplier_prefics = 'aliexpress'  , ini = ini)"
   ]
  },
  {
   "cell_type": "code",
   "execution_count": 2,
   "id": "a57047f7",
   "metadata": {
    "id": "a57047f7"
   },
   "outputs": [],
   "source": [
    "\n",
    "d = s.driver"
   ]
  },
  {
   "cell_type": "code",
   "execution_count": null,
   "id": "33c285cf",
   "metadata": {},
   "outputs": [],
   "source": []
  },
  {
   "cell_type": "code",
   "execution_count": 3,
   "id": "90051251",
   "metadata": {
    "id": "90051251"
   },
   "outputs": [
    {
     "ename": "KeyError",
     "evalue": "'currency_language_shipto_locators'",
     "output_type": "error",
     "traceback": [
      "\u001b[1;31m---------------------------------------------------------------------------\u001b[0m",
      "\u001b[1;31mKeyError\u001b[0m                                  Traceback (most recent call last)",
      "Input \u001b[1;32mIn [3]\u001b[0m, in \u001b[0;36m<cell line: 2>\u001b[1;34m()\u001b[0m\n\u001b[0;32m      1\u001b[0m d \u001b[38;5;241m=\u001b[39m s\u001b[38;5;241m.\u001b[39mdriver\n\u001b[1;32m----> 2\u001b[0m l \u001b[38;5;241m=\u001b[39m \u001b[43ms\u001b[49m\u001b[38;5;241;43m.\u001b[39;49m\u001b[43mlocators\u001b[49m\u001b[43m[\u001b[49m\u001b[38;5;124;43m'\u001b[39;49m\u001b[38;5;124;43mcurrency_language_shipto_locators\u001b[39;49m\u001b[38;5;124;43m'\u001b[39;49m\u001b[43m]\u001b[49m\n",
      "\u001b[1;31mKeyError\u001b[0m: 'currency_language_shipto_locators'"
     ]
    }
   ],
   "source": [
    "\n",
    "d = s.driver\n",
    "l = s.locators['currency_language_shipto_locators']"
   ]
  },
  {
   "cell_type": "code",
   "execution_count": 4,
   "id": "a3ce0be2",
   "metadata": {
    "id": "a3ce0be2"
   },
   "outputs": [],
   "source": [
    "d.click(l['block_opener_locator'])\n",
    "d.wait(1)"
   ]
  },
  {
   "cell_type": "code",
   "execution_count": 5,
   "id": "1c38b9b7",
   "metadata": {
    "id": "1c38b9b7"
   },
   "outputs": [
    {
     "name": "stdout",
     "output_type": "stream",
     "text": [
      " \n",
      "                                Возникла ошибка  Message: Element <div class=\"filter-list-container\"> could not be scrolled into view\n",
      "Stacktrace:\n",
      "WebDriverError@chrome://remote/content/shared/webdriver/Errors.jsm:186:5\n",
      "ElementNotInteractableError@chrome://remote/content/shared/webdriver/Errors.jsm:296:5\n",
      "webdriverClickElement@chrome://remote/content/marionette/interaction.js:156:11\n",
      "interaction.clickElement@chrome://remote/content/marionette/interaction.js:125:11\n",
      "clickElement@chrome://remote/content/marionette/actors/MarionetteCommandsChild.jsm:203:24\n",
      "receiveMessage@chrome://remote/content/marionette/actors/MarionetteCommandsChild.jsm:91:31\n",
      " \n",
      "                                ----------------------\n",
      "                                элемент:\n",
      "                                <selenium.webdriver.remote.webelement.WebElement (session=\"7ae49368-42e2-404b-b5d3-31c9f6131eaa\", element=\"7ee44a13-a65e-4211-b295-c3a26e117948\")> ne обязательно должен нажиматься\n",
      "                                он часть списка \n",
      "                                [<selenium.webdriver.remote.webelement.WebElement (session=\"7ae49368-42e2-404b-b5d3-31c9f6131eaa\", element=\"eb3eec50-c2c3-4ded-bc2d-c11722602571\")>, <selenium.webdriver.remote.webelement.WebElement (session=\"7ae49368-42e2-404b-b5d3-31c9f6131eaa\", element=\"7ee44a13-a65e-4211-b295-c3a26e117948\")>, <selenium.webdriver.remote.webelement.WebElement (session=\"7ae49368-42e2-404b-b5d3-31c9f6131eaa\", element=\"30449268-4ab7-4e95-a5ff-6cbcdef570c7\")>]\n",
      "                                \n",
      " \n",
      "                                Возникла ошибка  Message: Element <div class=\"filter-list-container\"> could not be scrolled into view\n",
      "Stacktrace:\n",
      "WebDriverError@chrome://remote/content/shared/webdriver/Errors.jsm:186:5\n",
      "ElementNotInteractableError@chrome://remote/content/shared/webdriver/Errors.jsm:296:5\n",
      "webdriverClickElement@chrome://remote/content/marionette/interaction.js:156:11\n",
      "interaction.clickElement@chrome://remote/content/marionette/interaction.js:125:11\n",
      "clickElement@chrome://remote/content/marionette/actors/MarionetteCommandsChild.jsm:203:24\n",
      "receiveMessage@chrome://remote/content/marionette/actors/MarionetteCommandsChild.jsm:91:31\n",
      " \n",
      "                                ----------------------\n",
      "                                элемент:\n",
      "                                <selenium.webdriver.remote.webelement.WebElement (session=\"7ae49368-42e2-404b-b5d3-31c9f6131eaa\", element=\"30449268-4ab7-4e95-a5ff-6cbcdef570c7\")> ne обязательно должен нажиматься\n",
      "                                он часть списка \n",
      "                                [<selenium.webdriver.remote.webelement.WebElement (session=\"7ae49368-42e2-404b-b5d3-31c9f6131eaa\", element=\"eb3eec50-c2c3-4ded-bc2d-c11722602571\")>, <selenium.webdriver.remote.webelement.WebElement (session=\"7ae49368-42e2-404b-b5d3-31c9f6131eaa\", element=\"7ee44a13-a65e-4211-b295-c3a26e117948\")>, <selenium.webdriver.remote.webelement.WebElement (session=\"7ae49368-42e2-404b-b5d3-31c9f6131eaa\", element=\"30449268-4ab7-4e95-a5ff-6cbcdef570c7\")>]\n",
      "                                \n"
     ]
    }
   ],
   "source": [
    "d.click(l['shipto_locator'])\n",
    "d.wait(1)"
   ]
  },
  {
   "cell_type": "code",
   "execution_count": 6,
   "id": "a4314527",
   "metadata": {
    "id": "a4314527"
   },
   "outputs": [],
   "source": [
    "d.click(l['language_locator'])\n",
    "d.wait(1)"
   ]
  },
  {
   "cell_type": "code",
   "execution_count": 7,
   "id": "f28d2219",
   "metadata": {
    "id": "f28d2219"
   },
   "outputs": [],
   "source": [
    "d.click(l['currency_locator'])\n",
    "d.wait(1)"
   ]
  },
  {
   "cell_type": "code",
   "execution_count": 8,
   "id": "5b0e9e3f",
   "metadata": {
    "id": "5b0e9e3f"
   },
   "outputs": [],
   "source": [
    "d.click(l['save_button_locator'])\n",
    "d.wait(1)"
   ]
  },
  {
   "cell_type": "code",
   "execution_count": 7,
   "id": "a26788cd",
   "metadata": {
    "id": "a26788cd"
   },
   "outputs": [
    {
     "data": {
      "text/plain": [
       "True"
      ]
     },
     "execution_count": 7,
     "metadata": {},
     "output_type": "execute_result"
    }
   ],
   "source": [
    "d.get_url('https://ksp.co.il')"
   ]
  },
  {
   "cell_type": "code",
   "execution_count": 8,
   "id": "7492ad6b",
   "metadata": {
    "id": "7492ad6b"
   },
   "outputs": [],
   "source": [
    "import suppliers.execute_scenaries as ex"
   ]
  },
  {
   "cell_type": "code",
   "execution_count": 9,
   "id": "657a0be7",
   "metadata": {
    "id": "657a0be7"
   },
   "outputs": [
    {
     "ename": "JSONDecodeError",
     "evalue": "Expecting ',' delimiter: line 9 column 5 (char 179)",
     "output_type": "error",
     "traceback": [
      "\u001b[1;31m---------------------------------------------------------------------------\u001b[0m",
      "\u001b[1;31mJSONDecodeError\u001b[0m                           Traceback (most recent call last)",
      "Input \u001b[1;32mIn [9]\u001b[0m, in \u001b[0;36m<cell line: 1>\u001b[1;34m()\u001b[0m\n\u001b[1;32m----> 1\u001b[0m \u001b[43mex\u001b[49m\u001b[38;5;241;43m.\u001b[39;49m\u001b[43mexecute_list_of_scenaries\u001b[49m\u001b[43m(\u001b[49m\u001b[43ms\u001b[49m\u001b[43m)\u001b[49m\n",
      "File \u001b[1;32m~\\OneDrive\\REPOS\\DavidkaBenAvraham\\Katia\\Aluf\\suppliers\\execute_scenaries.py:69\u001b[0m, in \u001b[0;36mexecute_list_of_scenaries\u001b[1;34m(Supplier)\u001b[0m\n\u001b[0;32m     67\u001b[0m \u001b[38;5;28;01mif\u001b[39;00m \u001b[38;5;28misinstance\u001b[39m(scenario_files, \u001b[38;5;28mstr\u001b[39m):\n\u001b[0;32m     68\u001b[0m     \u001b[38;5;124;03m''' если в сценарии есть всего один файл '''\u001b[39;00m\n\u001b[1;32m---> 69\u001b[0m     \u001b[43mrun\u001b[49m\u001b[43m(\u001b[49m\u001b[43mscenario_files\u001b[49m\u001b[43m)\u001b[49m\n\u001b[0;32m     70\u001b[0m \u001b[38;5;28;01melse\u001b[39;00m:\n\u001b[0;32m     71\u001b[0m     \u001b[38;5;28;01mfor\u001b[39;00m json_file \u001b[38;5;129;01min\u001b[39;00m [scenario_files]: \n",
      "File \u001b[1;32m~\\OneDrive\\REPOS\\DavidkaBenAvraham\\Katia\\Aluf\\suppliers\\execute_scenaries.py:49\u001b[0m, in \u001b[0;36mexecute_list_of_scenaries.<locals>.run\u001b[1;34m(json_file)\u001b[0m\n\u001b[0;32m     48\u001b[0m \u001b[38;5;28;01mdef\u001b[39;00m \u001b[38;5;21mrun\u001b[39m(json_file) \u001b[38;5;241m-\u001b[39m\u001b[38;5;241m>\u001b[39m \u001b[38;5;28mbool\u001b[39m:\n\u001b[1;32m---> 49\u001b[0m     s\u001b[38;5;241m.\u001b[39mscenaries \u001b[38;5;241m=\u001b[39m \u001b[43mjson\u001b[49m\u001b[38;5;241;43m.\u001b[39;49m\u001b[43mloads\u001b[49m\u001b[43m(\u001b[49m\u001b[43mPath\u001b[49m\u001b[43m(\u001b[49m\u001b[43ms\u001b[49m\u001b[38;5;241;43m.\u001b[39;49m\u001b[43mini\u001b[49m\u001b[38;5;241;43m.\u001b[39;49m\u001b[43mpaths\u001b[49m\u001b[38;5;241;43m.\u001b[39;49m\u001b[43mini_files_dir\u001b[49m\u001b[43m \u001b[49m\u001b[43m,\u001b[49m\u001b[43m \u001b[49m\u001b[38;5;124;43mf\u001b[39;49m\u001b[38;5;124;43m'''\u001b[39;49m\u001b[38;5;132;43;01m{\u001b[39;49;00m\u001b[43mjson_file\u001b[49m\u001b[38;5;132;43;01m}\u001b[39;49;00m\u001b[38;5;124;43m'''\u001b[39;49m\u001b[43m)\u001b[49m\u001b[43m)\u001b[49m\n\u001b[0;32m     50\u001b[0m     s\u001b[38;5;241m.\u001b[39mscenario_category \u001b[38;5;241m=\u001b[39m json_file\u001b[38;5;241m.\u001b[39msplit(\u001b[38;5;124m'\u001b[39m\u001b[38;5;124m_\u001b[39m\u001b[38;5;124m'\u001b[39m)[\u001b[38;5;241m2\u001b[39m]\n\u001b[0;32m     51\u001b[0m     \u001b[38;5;124;03m''' третье слово в названии файла сценариев это категория товаров '''\u001b[39;00m\n",
      "File \u001b[1;32m~\\OneDrive\\REPOS\\DavidkaBenAvraham\\Katia\\Aluf\\execute_json.py:20\u001b[0m, in \u001b[0;36mloads\u001b[1;34m(path)\u001b[0m\n\u001b[0;32m     18\u001b[0m \u001b[38;5;124;03m''' получаю объект Path - не str! '''\u001b[39;00m\n\u001b[0;32m     19\u001b[0m \u001b[38;5;28;01mwith\u001b[39;00m path\u001b[38;5;241m.\u001b[39mabsolute()\u001b[38;5;241m.\u001b[39mopen(encoding\u001b[38;5;241m=\u001b[39m\u001b[38;5;124m'\u001b[39m\u001b[38;5;124mutf-8\u001b[39m\u001b[38;5;124m'\u001b[39m) \u001b[38;5;28;01mas\u001b[39;00m f:\n\u001b[1;32m---> 20\u001b[0m     data \u001b[38;5;241m=\u001b[39m \u001b[43mjson\u001b[49m\u001b[38;5;241;43m.\u001b[39;49m\u001b[43mloads\u001b[49m\u001b[43m(\u001b[49m\u001b[43mf\u001b[49m\u001b[38;5;241;43m.\u001b[39;49m\u001b[43mread\u001b[49m\u001b[43m(\u001b[49m\u001b[43m)\u001b[49m\u001b[43m)\u001b[49m\n\u001b[0;32m     21\u001b[0m \u001b[38;5;28;01mreturn\u001b[39;00m data\n",
      "File \u001b[1;32m~\\anaconda3\\lib\\json\\__init__.py:346\u001b[0m, in \u001b[0;36mloads\u001b[1;34m(s, cls, object_hook, parse_float, parse_int, parse_constant, object_pairs_hook, **kw)\u001b[0m\n\u001b[0;32m    341\u001b[0m     s \u001b[38;5;241m=\u001b[39m s\u001b[38;5;241m.\u001b[39mdecode(detect_encoding(s), \u001b[38;5;124m'\u001b[39m\u001b[38;5;124msurrogatepass\u001b[39m\u001b[38;5;124m'\u001b[39m)\n\u001b[0;32m    343\u001b[0m \u001b[38;5;28;01mif\u001b[39;00m (\u001b[38;5;28mcls\u001b[39m \u001b[38;5;129;01mis\u001b[39;00m \u001b[38;5;28;01mNone\u001b[39;00m \u001b[38;5;129;01mand\u001b[39;00m object_hook \u001b[38;5;129;01mis\u001b[39;00m \u001b[38;5;28;01mNone\u001b[39;00m \u001b[38;5;129;01mand\u001b[39;00m\n\u001b[0;32m    344\u001b[0m         parse_int \u001b[38;5;129;01mis\u001b[39;00m \u001b[38;5;28;01mNone\u001b[39;00m \u001b[38;5;129;01mand\u001b[39;00m parse_float \u001b[38;5;129;01mis\u001b[39;00m \u001b[38;5;28;01mNone\u001b[39;00m \u001b[38;5;129;01mand\u001b[39;00m\n\u001b[0;32m    345\u001b[0m         parse_constant \u001b[38;5;129;01mis\u001b[39;00m \u001b[38;5;28;01mNone\u001b[39;00m \u001b[38;5;129;01mand\u001b[39;00m object_pairs_hook \u001b[38;5;129;01mis\u001b[39;00m \u001b[38;5;28;01mNone\u001b[39;00m \u001b[38;5;129;01mand\u001b[39;00m \u001b[38;5;129;01mnot\u001b[39;00m kw):\n\u001b[1;32m--> 346\u001b[0m     \u001b[38;5;28;01mreturn\u001b[39;00m \u001b[43m_default_decoder\u001b[49m\u001b[38;5;241;43m.\u001b[39;49m\u001b[43mdecode\u001b[49m\u001b[43m(\u001b[49m\u001b[43ms\u001b[49m\u001b[43m)\u001b[49m\n\u001b[0;32m    347\u001b[0m \u001b[38;5;28;01mif\u001b[39;00m \u001b[38;5;28mcls\u001b[39m \u001b[38;5;129;01mis\u001b[39;00m \u001b[38;5;28;01mNone\u001b[39;00m:\n\u001b[0;32m    348\u001b[0m     \u001b[38;5;28mcls\u001b[39m \u001b[38;5;241m=\u001b[39m JSONDecoder\n",
      "File \u001b[1;32m~\\anaconda3\\lib\\json\\decoder.py:337\u001b[0m, in \u001b[0;36mJSONDecoder.decode\u001b[1;34m(self, s, _w)\u001b[0m\n\u001b[0;32m    332\u001b[0m \u001b[38;5;28;01mdef\u001b[39;00m \u001b[38;5;21mdecode\u001b[39m(\u001b[38;5;28mself\u001b[39m, s, _w\u001b[38;5;241m=\u001b[39mWHITESPACE\u001b[38;5;241m.\u001b[39mmatch):\n\u001b[0;32m    333\u001b[0m     \u001b[38;5;124;03m\"\"\"Return the Python representation of ``s`` (a ``str`` instance\u001b[39;00m\n\u001b[0;32m    334\u001b[0m \u001b[38;5;124;03m    containing a JSON document).\u001b[39;00m\n\u001b[0;32m    335\u001b[0m \n\u001b[0;32m    336\u001b[0m \u001b[38;5;124;03m    \"\"\"\u001b[39;00m\n\u001b[1;32m--> 337\u001b[0m     obj, end \u001b[38;5;241m=\u001b[39m \u001b[38;5;28;43mself\u001b[39;49m\u001b[38;5;241;43m.\u001b[39;49m\u001b[43mraw_decode\u001b[49m\u001b[43m(\u001b[49m\u001b[43ms\u001b[49m\u001b[43m,\u001b[49m\u001b[43m \u001b[49m\u001b[43midx\u001b[49m\u001b[38;5;241;43m=\u001b[39;49m\u001b[43m_w\u001b[49m\u001b[43m(\u001b[49m\u001b[43ms\u001b[49m\u001b[43m,\u001b[49m\u001b[43m \u001b[49m\u001b[38;5;241;43m0\u001b[39;49m\u001b[43m)\u001b[49m\u001b[38;5;241;43m.\u001b[39;49m\u001b[43mend\u001b[49m\u001b[43m(\u001b[49m\u001b[43m)\u001b[49m\u001b[43m)\u001b[49m\n\u001b[0;32m    338\u001b[0m     end \u001b[38;5;241m=\u001b[39m _w(s, end)\u001b[38;5;241m.\u001b[39mend()\n\u001b[0;32m    339\u001b[0m     \u001b[38;5;28;01mif\u001b[39;00m end \u001b[38;5;241m!=\u001b[39m \u001b[38;5;28mlen\u001b[39m(s):\n",
      "File \u001b[1;32m~\\anaconda3\\lib\\json\\decoder.py:353\u001b[0m, in \u001b[0;36mJSONDecoder.raw_decode\u001b[1;34m(self, s, idx)\u001b[0m\n\u001b[0;32m    344\u001b[0m \u001b[38;5;124;03m\"\"\"Decode a JSON document from ``s`` (a ``str`` beginning with\u001b[39;00m\n\u001b[0;32m    345\u001b[0m \u001b[38;5;124;03ma JSON document) and return a 2-tuple of the Python\u001b[39;00m\n\u001b[0;32m    346\u001b[0m \u001b[38;5;124;03mrepresentation and the index in ``s`` where the document ended.\u001b[39;00m\n\u001b[1;32m   (...)\u001b[0m\n\u001b[0;32m    350\u001b[0m \n\u001b[0;32m    351\u001b[0m \u001b[38;5;124;03m\"\"\"\u001b[39;00m\n\u001b[0;32m    352\u001b[0m \u001b[38;5;28;01mtry\u001b[39;00m:\n\u001b[1;32m--> 353\u001b[0m     obj, end \u001b[38;5;241m=\u001b[39m \u001b[38;5;28;43mself\u001b[39;49m\u001b[38;5;241;43m.\u001b[39;49m\u001b[43mscan_once\u001b[49m\u001b[43m(\u001b[49m\u001b[43ms\u001b[49m\u001b[43m,\u001b[49m\u001b[43m \u001b[49m\u001b[43midx\u001b[49m\u001b[43m)\u001b[49m\n\u001b[0;32m    354\u001b[0m \u001b[38;5;28;01mexcept\u001b[39;00m \u001b[38;5;167;01mStopIteration\u001b[39;00m \u001b[38;5;28;01mas\u001b[39;00m err:\n\u001b[0;32m    355\u001b[0m     \u001b[38;5;28;01mraise\u001b[39;00m JSONDecodeError(\u001b[38;5;124m\"\u001b[39m\u001b[38;5;124mExpecting value\u001b[39m\u001b[38;5;124m\"\u001b[39m, s, err\u001b[38;5;241m.\u001b[39mvalue) \u001b[38;5;28;01mfrom\u001b[39;00m \u001b[38;5;28mNone\u001b[39m\n",
      "\u001b[1;31mJSONDecodeError\u001b[0m: Expecting ',' delimiter: line 9 column 5 (char 179)"
     ]
    }
   ],
   "source": [
    "ex.execute_list_of_scenaries(s)"
   ]
  },
  {
   "cell_type": "code",
   "execution_count": null,
   "id": "c7c9d608",
   "metadata": {
    "id": "c7c9d608"
   },
   "outputs": [],
   "source": []
  },
  {
   "cell_type": "code",
   "execution_count": null,
   "id": "5852dda6",
   "metadata": {
    "id": "5852dda6"
   },
   "outputs": [],
   "source": []
  },
  {
   "cell_type": "code",
   "execution_count": null,
   "id": "02b5bc87",
   "metadata": {
    "id": "02b5bc87"
   },
   "outputs": [],
   "source": []
  },
  {
   "cell_type": "code",
   "execution_count": null,
   "id": "0caec456",
   "metadata": {
    "id": "0caec456"
   },
   "outputs": [],
   "source": []
  },
  {
   "cell_type": "code",
   "execution_count": null,
   "id": "f18f2ca0",
   "metadata": {
    "id": "f18f2ca0"
   },
   "outputs": [],
   "source": []
  },
  {
   "cell_type": "code",
   "execution_count": null,
   "id": "7c710744",
   "metadata": {
    "id": "7c710744"
   },
   "outputs": [],
   "source": []
  },
  {
   "cell_type": "code",
   "execution_count": null,
   "id": "08a3d401",
   "metadata": {
    "id": "08a3d401"
   },
   "outputs": [],
   "source": []
  },
  {
   "cell_type": "code",
   "execution_count": null,
   "id": "b5492956",
   "metadata": {
    "id": "b5492956"
   },
   "outputs": [],
   "source": []
  },
  {
   "cell_type": "code",
   "execution_count": null,
   "id": "d0a9c8c0",
   "metadata": {
    "id": "d0a9c8c0"
   },
   "outputs": [],
   "source": [
    "\n",
    "from aliexpress_api import AliexpressApi, models\n",
    "\n",
    "\n",
    "aliexpress = AliexpressApi(\"33759699\", \"593acdd5414f1845b464d87353fbad44\", models.Language.EN, models.Currency.USD, \"50000201340tQdpjudpqBySjYiAphkyTigGwm1IRuCGYjSpdPuQ011d78531N2WmSpjK\")\n",
    "\n"
   ]
  },
  {
   "cell_type": "code",
   "execution_count": null,
   "id": "af9e6758",
   "metadata": {
    "id": "af9e6758"
   },
   "outputs": [],
   "source": [
    "print(aliexpress)"
   ]
  },
  {
   "cell_type": "code",
   "execution_count": null,
   "id": "58658a23",
   "metadata": {
    "id": "58658a23"
   },
   "outputs": [],
   "source": [
    "a = aliexpress.get_products_details(['1000006468625', 'https://aliexpress.com/item/1005003091506814.html'])"
   ]
  },
  {
   "cell_type": "code",
   "execution_count": null,
   "id": "1864cf86",
   "metadata": {
    "id": "1864cf86"
   },
   "outputs": [],
   "source": [
    "parent_categories = aliexpress.get_parent_categories()"
   ]
  },
  {
   "cell_type": "code",
   "execution_count": null,
   "id": "c78fe020",
   "metadata": {
    "id": "c78fe020"
   },
   "outputs": [],
   "source": []
  }
 ],
 "metadata": {
  "colab": {
   "name": "Маруся - опыты.ipynb",
   "provenance": []
  },
  "kernelspec": {
   "display_name": "Python 3.9.12 ('base')",
   "language": "python",
   "name": "python3"
  },
  "language_info": {
   "codemirror_mode": {
    "name": "ipython",
    "version": 3
   },
   "file_extension": ".py",
   "mimetype": "text/x-python",
   "name": "python",
   "nbconvert_exporter": "python",
   "pygments_lexer": "ipython3",
   "version": "3.9.12"
  },
  "vscode": {
   "interpreter": {
    "hash": "a077222d77dfe082b8f1dd562ad70e458ac2ab76993a0b248ab0476e32e9e8dd"
   }
  }
 },
 "nbformat": 4,
 "nbformat_minor": 5
}
