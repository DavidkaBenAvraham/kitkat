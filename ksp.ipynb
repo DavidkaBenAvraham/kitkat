{
 "cells": [
  {
   "cell_type": "code",
   "execution_count": 3,
   "id": "72504974-9d5e-4459-b891-2b720595ce6e",
   "metadata": {},
   "outputs": [
    {
     "name": "stderr",
     "output_type": "stream",
     "text": [
      "2022-07-25 22:46:43.890 | INFO     | suppliers:__attrs_post_init__:143 - Родился объект supplier ksp\n"
     ]
    }
   ],
   "source": [
    "import ipywidgets as widgets\n",
    "from IPython.display import display\n",
    "\n",
    "from suppliers import Supplier\n",
    "\n",
    "s  = Supplier(supplier_prefics = 'ksp')\n",
    "d = s.driver\n",
    "import suppliers.execute_scenaries as executer"
   ]
  },
  {
   "cell_type": "code",
   "execution_count": null,
   "id": "b1c7244e-fa49-4c04-9e10-269944535321",
   "metadata": {},
   "outputs": [],
   "source": []
  }
 ],
 "metadata": {
  "kernelspec": {
   "display_name": "Python 3 (ipykernel)",
   "language": "python",
   "name": "python3"
  },
  "language_info": {
   "codemirror_mode": {
    "name": "ipython",
    "version": 3
   },
   "file_extension": ".py",
   "mimetype": "text/x-python",
   "name": "python",
   "nbconvert_exporter": "python",
   "pygments_lexer": "ipython3",
   "version": "3.9.12"
  }
 },
 "nbformat": 4,
 "nbformat_minor": 5
}
