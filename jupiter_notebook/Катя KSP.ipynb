{
 "cells": [
  {
   "cell_type": "code",
   "execution_count": null,
   "id": "d998ba16",
   "metadata": {},
   "outputs": [],
   "source": [
    "import ipywidgets as widgets\n",
    "from IPython.display import display\n",
    "\n",
    "from suppliers import Supplier\n",
    "from ini_files_dir import Ini\n",
    "ini = Ini()\n",
    "\n",
    "s  = Supplier(supplier_prefics = 'ksp'  , ini = ini)\n",
    "d = s.driver\n",
    "import suppliers.execute_scenaries as executer\n"
   ]
  },
  {
   "cell_type": "code",
   "execution_count": null,
   "id": "4fe90a3e",
   "metadata": {},
   "outputs": [],
   "source": [
    "executer.execute_list_of_scenaries(s)"
   ]
  },
  {
   "cell_type": "code",
   "execution_count": null,
   "id": "343f7592",
   "metadata": {},
   "outputs": [],
   "source": [
    "#run_scenario(s , _scenario) "
   ]
  },
  {
   "cell_type": "code",
   "execution_count": null,
   "id": "d35bf942-bf72-4427-a729-056562c21128",
   "metadata": {},
   "outputs": [],
   "source": []
  }
 ],
 "metadata": {
  "kernelspec": {
   "display_name": "Python 3 (ipykernel)",
   "language": "python",
   "name": "python3"
  },
  "language_info": {
   "codemirror_mode": {
    "name": "ipython",
    "version": 3
   },
   "file_extension": ".py",
   "mimetype": "text/x-python",
   "name": "python",
   "nbconvert_exporter": "python",
   "pygments_lexer": "ipython3",
   "version": "3.9.12"
  },
  "vscode": {
   "interpreter": {
    "hash": "7b1f2b33e866b0bf2409397e5f58ba9cdf170d3b7f64c8f359c79998e2f88ad4"
   }
  }
 },
 "nbformat": 4,
 "nbformat_minor": 5
}
