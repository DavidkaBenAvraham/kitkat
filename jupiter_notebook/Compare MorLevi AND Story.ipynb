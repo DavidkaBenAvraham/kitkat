{
 "cells": [
  {
   "cell_type": "markdown",
   "metadata": {},
   "source": [
    "# предыдущий файл mor-levi_27-10-19\n",
    "# новый файл mor-levi_17-11-19\n",
    "-----------------------------------\n",
    "# файл сайта Stores_Products_18-11-19"
   ]
  },
  {
   "cell_type": "code",
   "execution_count": 1,
   "metadata": {},
   "outputs": [
    {
     "name": "stdout",
     "output_type": "stream",
     "text": [
      "ошибка пересчета цены\n",
      "can't multiply sequence by non-int of type 'float'\n",
      "Notebook | Tablets - не удалось изменить цену!\n",
      "0      NaN\n",
      "1      795\n",
      "2      799\n",
      "3      830\n",
      "4      744\n",
      "5     1099\n",
      "6     1099\n",
      "7     1179\n",
      "8     1399\n",
      "9     1549\n",
      "10    1699\n",
      "11    1595\n",
      "12    2199\n",
      "13    1944\n",
      "14    1999\n",
      "15    2499\n",
      "16    1199\n",
      "17    1275\n",
      "18    1650\n",
      "19    1585\n",
      "20     199\n",
      "21     295\n",
      "22     395\n",
      "23     420\n",
      "24     NaN\n",
      "25     NaN\n",
      "26    1270\n",
      "27    1360\n",
      "28    1299\n",
      "29    1599\n",
      "      ... \n",
      "61    1590\n",
      "62    1570\n",
      "63    1690\n",
      "64    1910\n",
      "65    1850\n",
      "66    2299\n",
      "67     NaN\n",
      "68     NaN\n",
      "69     315\n",
      "70     319\n",
      "71     149\n",
      "72     185\n",
      "73     NaN\n",
      "74     NaN\n",
      "75     279\n",
      "76     359\n",
      "77     999\n",
      "78    call\n",
      "79     NaN\n",
      "80     NaN\n",
      "81      33\n",
      "82      33\n",
      "83     NaN\n",
      "84     NaN\n",
      "85      47\n",
      "86      49\n",
      "87      54\n",
      "88     109\n",
      "89     129\n",
      "90     195\n",
      "Name: Price, Length: 91, dtype: object\n"
     ]
    },
    {
     "ename": "UnboundLocalError",
     "evalue": "local variable 'csv_file' referenced before assignment",
     "output_type": "error",
     "traceback": [
      "\u001b[1;31m---------------------------------------------------------------------------\u001b[0m",
      "\u001b[1;31mUnboundLocalError\u001b[0m                         Traceback (most recent call last)",
      "\u001b[1;32m<ipython-input-1-c63858d6feb8>\u001b[0m in \u001b[0;36m<module>\u001b[1;34m\u001b[0m\n\u001b[0;32m      5\u001b[0m \u001b[1;31m#      Конвертация мехирона Морлеви в файлы csv с пересчетом цены  (*1.4)\u001b[0m\u001b[1;33m\u001b[0m\u001b[1;33m\u001b[0m\u001b[1;33m\u001b[0m\u001b[0m\n\u001b[0;32m      6\u001b[0m \u001b[1;31m#\u001b[0m\u001b[1;33m\u001b[0m\u001b[1;33m\u001b[0m\u001b[1;33m\u001b[0m\u001b[0m\n\u001b[1;32m----> 7\u001b[1;33m \u001b[0maluf\u001b[0m\u001b[1;33m.\u001b[0m\u001b[0mconvert_Morlevi_to_csv\u001b[0m\u001b[1;33m(\u001b[0m\u001b[1;34m'29-12-19'\u001b[0m\u001b[1;33m)\u001b[0m\u001b[1;33m\u001b[0m\u001b[1;33m\u001b[0m\u001b[0m\n\u001b[0m\u001b[0;32m      8\u001b[0m \u001b[1;33m\u001b[0m\u001b[0m\n\u001b[0;32m      9\u001b[0m \u001b[1;31m#aluf.convert_Morlevi_to_csv('27-10-19')\u001b[0m\u001b[1;33m\u001b[0m\u001b[1;33m\u001b[0m\u001b[1;33m\u001b[0m\u001b[0m\n",
      "\u001b[1;32m~\\source\\repos\\Aluf\\Aluf\\aluf_data.py\u001b[0m in \u001b[0;36mconvert_Morlevi_to_csv\u001b[1;34m(date)\u001b[0m\n\u001b[0;32m    111\u001b[0m \u001b[1;32mdef\u001b[0m \u001b[0mconvert_Morlevi_to_csv\u001b[0m\u001b[1;33m(\u001b[0m\u001b[0mdate\u001b[0m \u001b[1;33m=\u001b[0m \u001b[1;32mNone\u001b[0m\u001b[1;33m)\u001b[0m\u001b[1;33m:\u001b[0m\u001b[1;33m\u001b[0m\u001b[1;33m\u001b[0m\u001b[0m\n\u001b[0;32m    112\u001b[0m     \u001b[1;34m'date format: dd-mm-yy'\u001b[0m\u001b[1;33m\u001b[0m\u001b[1;33m\u001b[0m\u001b[0m\n\u001b[1;32m--> 113\u001b[1;33m     \u001b[0mcsv\u001b[0m\u001b[1;33m.\u001b[0m\u001b[0mconvert_Morlevi_to_csv\u001b[0m\u001b[1;33m(\u001b[0m\u001b[0mdate\u001b[0m\u001b[1;33m)\u001b[0m\u001b[1;33m\u001b[0m\u001b[1;33m\u001b[0m\u001b[0m\n\u001b[0m\u001b[0;32m    114\u001b[0m     \u001b[1;32mpass\u001b[0m\u001b[1;33m\u001b[0m\u001b[1;33m\u001b[0m\u001b[0m\n\u001b[0;32m    115\u001b[0m \u001b[1;31m#if __name__ == \"__main__\":\u001b[0m\u001b[1;33m\u001b[0m\u001b[1;33m\u001b[0m\u001b[1;33m\u001b[0m\u001b[0m\n",
      "\u001b[1;32m~\\source\\repos\\Aluf\\Aluf\\readwrite_exel_csv.py\u001b[0m in \u001b[0;36mconvert_Morlevi_to_csv\u001b[1;34m(date)\u001b[0m\n\u001b[0;32m    219\u001b[0m                 \u001b[0mprint\u001b[0m\u001b[1;33m(\u001b[0m\u001b[0mcsv_file\u001b[0m\u001b[1;33m)\u001b[0m\u001b[1;33m\u001b[0m\u001b[1;33m\u001b[0m\u001b[0m\n\u001b[0;32m    220\u001b[0m         \u001b[1;32melse\u001b[0m\u001b[1;33m:\u001b[0m \u001b[1;31m# нельзя записывать!\u001b[0m\u001b[1;33m\u001b[0m\u001b[1;33m\u001b[0m\u001b[0m\n\u001b[1;32m--> 221\u001b[1;33m             \u001b[0mprint\u001b[0m\u001b[1;33m(\u001b[0m\u001b[1;34m'-== НЕ записан!!!! - '\u001b[0m \u001b[1;33m+\u001b[0m \u001b[0mcsv_file\u001b[0m \u001b[1;33m+\u001b[0m \u001b[1;34m' =-'\u001b[0m\u001b[1;33m)\u001b[0m\u001b[1;33m\u001b[0m\u001b[1;33m\u001b[0m\u001b[0m\n\u001b[0m\u001b[0;32m    222\u001b[0m             \u001b[0mprint\u001b[0m\u001b[1;33m(\u001b[0m\u001b[1;33m)\u001b[0m\u001b[1;33m\u001b[0m\u001b[1;33m\u001b[0m\u001b[0m\n\u001b[0;32m    223\u001b[0m \u001b[1;33m\u001b[0m\u001b[0m\n",
      "\u001b[1;31mUnboundLocalError\u001b[0m: local variable 'csv_file' referenced before assignment"
     ]
    }
   ],
   "source": [
    "import aluf_data as aluf\n",
    "\n",
    "################################################################\n",
    "#   \n",
    "#      Конвертация мехирона Морлеви в файлы csv с пересчетом цены  (*1.4)\n",
    "#\n",
    "aluf.convert_Morlevi_to_csv('29-12-19')\n",
    "\n",
    "#aluf.convert_Morlevi_to_csv('27-10-19')\n",
    "#\n",
    "################################################################\n",
    "\n",
    "################################################################\n",
    "#\n",
    "#      База данных сайта\n",
    "store_products = 'Stores_Products_18-11-19'\n",
    "#\n",
    "#     Дата последнего изменения\n",
    "#date_old = '27-10-19'\n",
    "#     Дате нового мехирона\n",
    "date_new = '29-12-19'\n",
    "#################################################################\n",
    "\n"
   ]
  },
  {
   "cell_type": "code",
   "execution_count": null,
   "metadata": {},
   "outputs": [],
   "source": [
    "sheet = 'Notebook_Tablets'\n",
    "\n",
    "print('\\n\\n\\t\\t\\t\\t ' + sheet)\n",
    "aluf.stock_changes(sheet, date_new, date_old, store_products)\n"
   ]
  },
  {
   "cell_type": "code",
   "execution_count": null,
   "metadata": {},
   "outputs": [],
   "source": [
    "sheet = 'MB'\n",
    "\n",
    "print('\\n\\n\\t\\t\\t\\t ' + sheet)\n",
    "aluf.stock_changes(sheet, date_new, date_old, store_products)"
   ]
  },
  {
   "cell_type": "code",
   "execution_count": null,
   "metadata": {},
   "outputs": [],
   "source": [
    "sheet = 'Memory'\n",
    "\n",
    "print('\\n\\n\\t\\t\\t\\t ' + sheet)\n",
    "aluf.stock_changes(sheet, date_new, date_old, store_products)"
   ]
  },
  {
   "cell_type": "code",
   "execution_count": null,
   "metadata": {},
   "outputs": [],
   "source": [
    "sheet = 'Network'\n",
    "\n",
    "print('\\n\\n\\t\\t\\t\\t ' + sheet)\n",
    "aluf.stock_changes(sheet, date_new, date_old, store_products)"
   ]
  },
  {
   "cell_type": "code",
   "execution_count": null,
   "metadata": {},
   "outputs": [],
   "source": [
    "sheet = 'Peripheral'\n",
    "\n",
    "print('\\n\\n\\t\\t\\t\\t ' + sheet)\n",
    "aluf.stock_changes(sheet, date_new, date_old, store_products)"
   ]
  },
  {
   "cell_type": "code",
   "execution_count": null,
   "metadata": {},
   "outputs": [],
   "source": [
    "sheet = 'Printers'\n",
    "\n",
    "print('\\n\\n\\t\\t\\t\\t ' + sheet)\n",
    "aluf.stock_changes(sheet, date_new, date_old, store_products)"
   ]
  },
  {
   "cell_type": "code",
   "execution_count": null,
   "metadata": {},
   "outputs": [],
   "source": [
    "sheet = 'PSU'\n",
    "\n",
    "print('\\n\\n\\t\\t\\t\\t ' + sheet)\n",
    "aluf.stock_changes(sheet, date_new, date_old, store_products)"
   ]
  },
  {
   "cell_type": "code",
   "execution_count": null,
   "metadata": {},
   "outputs": [],
   "source": [
    "sheet = 'VGA'\n",
    "\n",
    "print('\\n\\n\\t\\t\\t\\t ' + sheet)\n",
    "aluf.stock_changes(sheet, date_new, date_old, store_products)"
   ]
  },
  {
   "cell_type": "code",
   "execution_count": null,
   "metadata": {},
   "outputs": [],
   "source": [
    "sheet = 'Cases'\n",
    "\n",
    "print('\\n\\n\\t\\t\\t\\t ' + sheet)\n",
    "aluf.stock_changes(sheet, date_new, date_old, store_products)"
   ]
  },
  {
   "cell_type": "code",
   "execution_count": null,
   "metadata": {},
   "outputs": [],
   "source": [
    "sheet = 'CPU'\n",
    "\n",
    "print('\\n\\n\\t\\t\\t\\t ' + sheet)\n",
    "aluf.stock_changes(sheet, date_new, date_old, store_products)"
   ]
  }
 ],
 "metadata": {
  "kernelspec": {
   "display_name": "Python 3 (ipykernel)",
   "language": "python",
   "name": "python3"
  },
  "language_info": {
   "codemirror_mode": {
    "name": "ipython",
    "version": 3
   },
   "file_extension": ".py",
   "mimetype": "text/x-python",
   "name": "python",
   "nbconvert_exporter": "python",
   "pygments_lexer": "ipython3",
   "version": "3.9.12"
  }
 },
 "nbformat": 4,
 "nbformat_minor": 2
}
