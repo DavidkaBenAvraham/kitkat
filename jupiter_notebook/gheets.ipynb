{
 "cells": [
  {
   "cell_type": "markdown",
   "id": "c711a3be",
   "metadata": {},
   "source": [
    "https://towardsdatascience.com/how-to-integrate-google-sheets-and-jupyter-notebooks-c469309aacea"
   ]
  },
  {
   "cell_type": "code",
   "execution_count": 1,
   "id": "42d6a1d5",
   "metadata": {},
   "outputs": [],
   "source": [
    "import pandas as pd \n",
    "import gspread \n",
    "#import ServiceAccountCredentials"
   ]
  },
  {
   "cell_type": "markdown",
   "id": "53b3096e",
   "metadata": {},
   "source": [
    "https://stackoverflow.com/questions/52085054/how-do-i-use-google-auth-instead-of-oauth2client-in-python-to-get-access-to-my-g"
   ]
  },
  {
   "cell_type": "code",
   "execution_count": 2,
   "id": "826f2342",
   "metadata": {},
   "outputs": [],
   "source": [
    "import os\n",
    "from pathlib import Path\n",
    "import pickle\n",
    "\n",
    "from googleapiclient.discovery import build\n",
    "from google_auth_oauthlib.flow import InstalledAppFlow\n",
    "from google.auth.transport.requests import Request\n",
    "\n",
    "from google.oauth2.service_account import Credentials\n",
    "\n",
    "\n"
   ]
  },
  {
   "cell_type": "markdown",
   "id": "aa738539",
   "metadata": {},
   "source": [
    "<PRE>\n",
    "about scopes:\n",
    "https://developers.google.com/identity/protocols/oauth2/scopes\n",
    "\n",
    "https://developers.google.com/identity/protocols/oauth2/scopes#script\n",
    "Scopes\n",
    "https://mail.google.com/\tRead, compose, send, and permanently delete all your email from Gmail\n",
    "https://www.google.com/calendar/feeds\tSee, edit, share, and permanently delete all the calendars you can access using Google Calendar\n",
    "https://www.google.com/m8/feeds\tSee, edit, download, and permanently delete your contacts\n",
    "https://www.googleapis.com/auth/admin.directory.group\tView and manage the provisioning of groups on your domain\n",
    "https://www.googleapis.com/auth/admin.directory.user\tView and manage the provisioning of users on your domain\n",
    "https://www.googleapis.com/auth/documents\tSee, edit, create, and delete all your Google Docs documents\n",
    "https://www.googleapis.com/auth/drive\tSee, edit, create, and delete all of your Google Drive files\n",
    "https://www.googleapis.com/auth/forms\tView and manage your forms in Google Drive\n",
    "https://www.googleapis.com/auth/forms.currentonly\tView and manage forms that this application has been installed in\n",
    "https://www.googleapis.com/auth/groups\tView and manage your Google Groups\n",
    "https://www.googleapis.com/auth/script.deployments\tCreate and update Google Apps Script deployments\n",
    "https://www.googleapis.com/auth/script.deployments.readonly\tView Google Apps Script deployments\n",
    "https://www.googleapis.com/auth/script.metrics\tView Google Apps Script project's metrics\n",
    "https://www.googleapis.com/auth/script.processes\tView Google Apps Script processes\n",
    "https://www.googleapis.com/auth/script.projects\tCreate and update Google Apps Script projects\n",
    "https://www.googleapis.com/auth/script.projects.readonly\tView Google Apps Script projects\n",
    "https://www.googleapis.com/auth/spreadsheets\tSee, edit, create, and delete all your Google Sheets spreadsheets\n",
    "https://www.googleapis.com/auth/userinfo.email\tSee your primary Google Account email address\n",
    "    </PRE>\n",
    "    "
   ]
  },
  {
   "cell_type": "code",
   "execution_count": 3,
   "id": "7af6c1f3",
   "metadata": {},
   "outputs": [],
   "source": [
    "SCOPES = ['https://spreadsheets.google.com/feeds',\n",
    "'https://www.googleapis.com/auth/drive',\n",
    "'https://www.googleapis.com/auth/spreadsheets' , \n",
    "'https://www.googleapis.com/auth/calendar.readonly']\n",
    "\n",
    "SCOPES = ['https://spreadsheets.google.com/feeds',\n",
    "         'https://www.googleapis.com/auth/drive']\n",
    "\n",
    "SCOPES = ['https://spreadsheets.google.com/feeds','https://www.googleapis.com/auth/drive']\n",
    "\n",
    "service_account_file = Path('..','GOOGLE_CREDITIONALS' , 'service_account.json')\n",
    "\n",
    "\n",
    "#GOOGLE_CREDITIONALS = Credentials.from_service_account_file(service_account_file , scopes = SCOPES)"
   ]
  },
  {
   "cell_type": "code",
   "execution_count": 4,
   "id": "dcabc1ad",
   "metadata": {},
   "outputs": [],
   "source": [
    "def credentials():\n",
    "    # we check if the file to store the credentials exists\n",
    "    '''\n",
    "    if not os.path.exists('../google_api/credentials.dat'):\n",
    "\n",
    "        flow = InstalledAppFlow.from_client_secrets_file(service_account_file, SCOPES)\n",
    "        credentials = flow.run_local_server()\n",
    "\n",
    "        with open('credentials.dat', 'wb') as credentials_dat:\n",
    "            pickle.dump(credentials, credentials_dat)\n",
    "    else:\n",
    "        with open('credentials.dat', 'rb') as credentials_dat:\n",
    "            credentials = pickle.load(credentials_dat)\n",
    "\n",
    "    if credentials.expired:\n",
    "        credentials.refresh(Request())\n",
    "        \n",
    "    '''    \n",
    "    flow = InstalledAppFlow.from_client_secrets_file(service_account_file, SCOPES)\n",
    "    credentials = flow.run_local_server()    \n",
    "    return credentials\n",
    "\n",
    "\n"
   ]
  },
  {
   "cell_type": "markdown",
   "id": "de38b048",
   "metadata": {},
   "source": [
    "### Calendar\n",
    "\n",
    "<h6> Calendar </h6>"
   ]
  },
  {
   "cell_type": "code",
   "execution_count": null,
   "id": "29170ba8",
   "metadata": {},
   "outputs": [],
   "source": [
    "def example_calendar():\n",
    "    calendar_sdk = build('calendar', 'v3', credentials=credentials)\n",
    "\n",
    "    calendars_get_params = {\n",
    "            'calendarId': 'primary',\n",
    "        }\n",
    "\n",
    "    test = calendar_sdk.calendars().get(**calendars_get_params).execute()\n",
    "    \n",
    "print(example_calendar())\n"
   ]
  },
  {
   "cell_type": "markdown",
   "id": "a4889e97",
   "metadata": {},
   "source": [
    "\n",
    "    \n",
    "## Gsheets\n",
    "\n"
   ]
  },
  {
   "cell_type": "code",
   "execution_count": 7,
   "id": "28e0a4da",
   "metadata": {},
   "outputs": [
    {
     "ename": "OSError",
     "evalue": "[WinError 10048] Only one usage of each socket address (protocol/network address/port) is normally permitted",
     "output_type": "error",
     "traceback": [
      "\u001b[1;31m---------------------------------------------------------------------------\u001b[0m",
      "\u001b[1;31mOSError\u001b[0m                                   Traceback (most recent call last)",
      "Input \u001b[1;32mIn [7]\u001b[0m, in \u001b[0;36m<cell line: 1>\u001b[1;34m()\u001b[0m\n\u001b[1;32m----> 1\u001b[0m gc \u001b[38;5;241m=\u001b[39m gspread\u001b[38;5;241m.\u001b[39mauthorize(\u001b[43mcredentials\u001b[49m\u001b[43m(\u001b[49m\u001b[43m)\u001b[49m)\n",
      "Input \u001b[1;32mIn [4]\u001b[0m, in \u001b[0;36mcredentials\u001b[1;34m()\u001b[0m\n\u001b[0;32m      3\u001b[0m \u001b[38;5;124;03m'''\u001b[39;00m\n\u001b[0;32m      4\u001b[0m \u001b[38;5;124;03mif not os.path.exists('../google_api/credentials.dat'):\u001b[39;00m\n\u001b[0;32m      5\u001b[0m \n\u001b[1;32m   (...)\u001b[0m\n\u001b[0;32m     17\u001b[0m \u001b[38;5;124;03m    \u001b[39;00m\n\u001b[0;32m     18\u001b[0m \u001b[38;5;124;03m'''\u001b[39;00m    \n\u001b[0;32m     19\u001b[0m flow \u001b[38;5;241m=\u001b[39m InstalledAppFlow\u001b[38;5;241m.\u001b[39mfrom_client_secrets_file(service_account_file, SCOPES)\n\u001b[1;32m---> 20\u001b[0m credentials \u001b[38;5;241m=\u001b[39m \u001b[43mflow\u001b[49m\u001b[38;5;241;43m.\u001b[39;49m\u001b[43mrun_local_server\u001b[49m\u001b[43m(\u001b[49m\u001b[43m)\u001b[49m    \n\u001b[0;32m     21\u001b[0m \u001b[38;5;28;01mreturn\u001b[39;00m credentials\n",
      "File \u001b[1;32m~\\anaconda3\\lib\\site-packages\\google_auth_oauthlib\\flow.py:485\u001b[0m, in \u001b[0;36mInstalledAppFlow.run_local_server\u001b[1;34m(self, host, port, authorization_prompt_message, success_message, open_browser, redirect_uri_trailing_slash, **kwargs)\u001b[0m\n\u001b[0;32m    483\u001b[0m \u001b[38;5;66;03m# Fail fast if the address is occupied\u001b[39;00m\n\u001b[0;32m    484\u001b[0m wsgiref\u001b[38;5;241m.\u001b[39msimple_server\u001b[38;5;241m.\u001b[39mWSGIServer\u001b[38;5;241m.\u001b[39mallow_reuse_address \u001b[38;5;241m=\u001b[39m \u001b[38;5;28;01mFalse\u001b[39;00m\n\u001b[1;32m--> 485\u001b[0m local_server \u001b[38;5;241m=\u001b[39m \u001b[43mwsgiref\u001b[49m\u001b[38;5;241;43m.\u001b[39;49m\u001b[43msimple_server\u001b[49m\u001b[38;5;241;43m.\u001b[39;49m\u001b[43mmake_server\u001b[49m\u001b[43m(\u001b[49m\n\u001b[0;32m    486\u001b[0m \u001b[43m    \u001b[49m\u001b[43mhost\u001b[49m\u001b[43m,\u001b[49m\u001b[43m \u001b[49m\u001b[43mport\u001b[49m\u001b[43m,\u001b[49m\u001b[43m \u001b[49m\u001b[43mwsgi_app\u001b[49m\u001b[43m,\u001b[49m\u001b[43m \u001b[49m\u001b[43mhandler_class\u001b[49m\u001b[38;5;241;43m=\u001b[39;49m\u001b[43m_WSGIRequestHandler\u001b[49m\n\u001b[0;32m    487\u001b[0m \u001b[43m\u001b[49m\u001b[43m)\u001b[49m\n\u001b[0;32m    489\u001b[0m redirect_uri_format \u001b[38;5;241m=\u001b[39m (\n\u001b[0;32m    490\u001b[0m     \u001b[38;5;124m\"\u001b[39m\u001b[38;5;124mhttp://\u001b[39m\u001b[38;5;132;01m{}\u001b[39;00m\u001b[38;5;124m:\u001b[39m\u001b[38;5;132;01m{}\u001b[39;00m\u001b[38;5;124m/\u001b[39m\u001b[38;5;124m\"\u001b[39m \u001b[38;5;28;01mif\u001b[39;00m redirect_uri_trailing_slash \u001b[38;5;28;01melse\u001b[39;00m \u001b[38;5;124m\"\u001b[39m\u001b[38;5;124mhttp://\u001b[39m\u001b[38;5;132;01m{}\u001b[39;00m\u001b[38;5;124m:\u001b[39m\u001b[38;5;132;01m{}\u001b[39;00m\u001b[38;5;124m\"\u001b[39m\n\u001b[0;32m    491\u001b[0m )\n\u001b[0;32m    492\u001b[0m \u001b[38;5;28mself\u001b[39m\u001b[38;5;241m.\u001b[39mredirect_uri \u001b[38;5;241m=\u001b[39m redirect_uri_format\u001b[38;5;241m.\u001b[39mformat(host, local_server\u001b[38;5;241m.\u001b[39mserver_port)\n",
      "File \u001b[1;32m~\\anaconda3\\lib\\wsgiref\\simple_server.py:154\u001b[0m, in \u001b[0;36mmake_server\u001b[1;34m(host, port, app, server_class, handler_class)\u001b[0m\n\u001b[0;32m    150\u001b[0m \u001b[38;5;28;01mdef\u001b[39;00m \u001b[38;5;21mmake_server\u001b[39m(\n\u001b[0;32m    151\u001b[0m     host, port, app, server_class\u001b[38;5;241m=\u001b[39mWSGIServer, handler_class\u001b[38;5;241m=\u001b[39mWSGIRequestHandler\n\u001b[0;32m    152\u001b[0m ):\n\u001b[0;32m    153\u001b[0m     \u001b[38;5;124;03m\"\"\"Create a new WSGI server listening on `host` and `port` for `app`\"\"\"\u001b[39;00m\n\u001b[1;32m--> 154\u001b[0m     server \u001b[38;5;241m=\u001b[39m \u001b[43mserver_class\u001b[49m\u001b[43m(\u001b[49m\u001b[43m(\u001b[49m\u001b[43mhost\u001b[49m\u001b[43m,\u001b[49m\u001b[43m \u001b[49m\u001b[43mport\u001b[49m\u001b[43m)\u001b[49m\u001b[43m,\u001b[49m\u001b[43m \u001b[49m\u001b[43mhandler_class\u001b[49m\u001b[43m)\u001b[49m\n\u001b[0;32m    155\u001b[0m     server\u001b[38;5;241m.\u001b[39mset_app(app)\n\u001b[0;32m    156\u001b[0m     \u001b[38;5;28;01mreturn\u001b[39;00m server\n",
      "File \u001b[1;32m~\\anaconda3\\lib\\socketserver.py:452\u001b[0m, in \u001b[0;36mTCPServer.__init__\u001b[1;34m(self, server_address, RequestHandlerClass, bind_and_activate)\u001b[0m\n\u001b[0;32m    450\u001b[0m \u001b[38;5;28;01mif\u001b[39;00m bind_and_activate:\n\u001b[0;32m    451\u001b[0m     \u001b[38;5;28;01mtry\u001b[39;00m:\n\u001b[1;32m--> 452\u001b[0m         \u001b[38;5;28;43mself\u001b[39;49m\u001b[38;5;241;43m.\u001b[39;49m\u001b[43mserver_bind\u001b[49m\u001b[43m(\u001b[49m\u001b[43m)\u001b[49m\n\u001b[0;32m    453\u001b[0m         \u001b[38;5;28mself\u001b[39m\u001b[38;5;241m.\u001b[39mserver_activate()\n\u001b[0;32m    454\u001b[0m     \u001b[38;5;28;01mexcept\u001b[39;00m:\n",
      "File \u001b[1;32m~\\anaconda3\\lib\\wsgiref\\simple_server.py:50\u001b[0m, in \u001b[0;36mWSGIServer.server_bind\u001b[1;34m(self)\u001b[0m\n\u001b[0;32m     48\u001b[0m \u001b[38;5;28;01mdef\u001b[39;00m \u001b[38;5;21mserver_bind\u001b[39m(\u001b[38;5;28mself\u001b[39m):\n\u001b[0;32m     49\u001b[0m     \u001b[38;5;124;03m\"\"\"Override server_bind to store the server name.\"\"\"\u001b[39;00m\n\u001b[1;32m---> 50\u001b[0m     \u001b[43mHTTPServer\u001b[49m\u001b[38;5;241;43m.\u001b[39;49m\u001b[43mserver_bind\u001b[49m\u001b[43m(\u001b[49m\u001b[38;5;28;43mself\u001b[39;49m\u001b[43m)\u001b[49m\n\u001b[0;32m     51\u001b[0m     \u001b[38;5;28mself\u001b[39m\u001b[38;5;241m.\u001b[39msetup_environ()\n",
      "File \u001b[1;32m~\\anaconda3\\lib\\http\\server.py:136\u001b[0m, in \u001b[0;36mHTTPServer.server_bind\u001b[1;34m(self)\u001b[0m\n\u001b[0;32m    134\u001b[0m \u001b[38;5;28;01mdef\u001b[39;00m \u001b[38;5;21mserver_bind\u001b[39m(\u001b[38;5;28mself\u001b[39m):\n\u001b[0;32m    135\u001b[0m     \u001b[38;5;124;03m\"\"\"Override server_bind to store the server name.\"\"\"\u001b[39;00m\n\u001b[1;32m--> 136\u001b[0m     \u001b[43msocketserver\u001b[49m\u001b[38;5;241;43m.\u001b[39;49m\u001b[43mTCPServer\u001b[49m\u001b[38;5;241;43m.\u001b[39;49m\u001b[43mserver_bind\u001b[49m\u001b[43m(\u001b[49m\u001b[38;5;28;43mself\u001b[39;49m\u001b[43m)\u001b[49m\n\u001b[0;32m    137\u001b[0m     host, port \u001b[38;5;241m=\u001b[39m \u001b[38;5;28mself\u001b[39m\u001b[38;5;241m.\u001b[39mserver_address[:\u001b[38;5;241m2\u001b[39m]\n\u001b[0;32m    138\u001b[0m     \u001b[38;5;28mself\u001b[39m\u001b[38;5;241m.\u001b[39mserver_name \u001b[38;5;241m=\u001b[39m socket\u001b[38;5;241m.\u001b[39mgetfqdn(host)\n",
      "File \u001b[1;32m~\\anaconda3\\lib\\socketserver.py:466\u001b[0m, in \u001b[0;36mTCPServer.server_bind\u001b[1;34m(self)\u001b[0m\n\u001b[0;32m    464\u001b[0m \u001b[38;5;28;01mif\u001b[39;00m \u001b[38;5;28mself\u001b[39m\u001b[38;5;241m.\u001b[39mallow_reuse_address:\n\u001b[0;32m    465\u001b[0m     \u001b[38;5;28mself\u001b[39m\u001b[38;5;241m.\u001b[39msocket\u001b[38;5;241m.\u001b[39msetsockopt(socket\u001b[38;5;241m.\u001b[39mSOL_SOCKET, socket\u001b[38;5;241m.\u001b[39mSO_REUSEADDR, \u001b[38;5;241m1\u001b[39m)\n\u001b[1;32m--> 466\u001b[0m \u001b[38;5;28;43mself\u001b[39;49m\u001b[38;5;241;43m.\u001b[39;49m\u001b[43msocket\u001b[49m\u001b[38;5;241;43m.\u001b[39;49m\u001b[43mbind\u001b[49m\u001b[43m(\u001b[49m\u001b[38;5;28;43mself\u001b[39;49m\u001b[38;5;241;43m.\u001b[39;49m\u001b[43mserver_address\u001b[49m\u001b[43m)\u001b[49m\n\u001b[0;32m    467\u001b[0m \u001b[38;5;28mself\u001b[39m\u001b[38;5;241m.\u001b[39mserver_address \u001b[38;5;241m=\u001b[39m \u001b[38;5;28mself\u001b[39m\u001b[38;5;241m.\u001b[39msocket\u001b[38;5;241m.\u001b[39mgetsockname()\n",
      "\u001b[1;31mOSError\u001b[0m: [WinError 10048] Only one usage of each socket address (protocol/network address/port) is normally permitted"
     ]
    }
   ],
   "source": [
    "gc = gspread.authorize(credentials())"
   ]
  },
  {
   "cell_type": "code",
   "execution_count": 6,
   "id": "1db03701",
   "metadata": {},
   "outputs": [
    {
     "ename": "NameError",
     "evalue": "name 'gc' is not defined",
     "output_type": "error",
     "traceback": [
      "\u001b[1;31m---------------------------------------------------------------------------\u001b[0m",
      "\u001b[1;31mNameError\u001b[0m                                 Traceback (most recent call last)",
      "Input \u001b[1;32mIn [6]\u001b[0m, in \u001b[0;36m<cell line: 2>\u001b[1;34m()\u001b[0m\n\u001b[0;32m      1\u001b[0m \u001b[38;5;66;03m# Open a sheet from a spreadsheet in one go\u001b[39;00m\n\u001b[1;32m----> 2\u001b[0m wks \u001b[38;5;241m=\u001b[39m \u001b[43mgc\u001b[49m\u001b[38;5;241m.\u001b[39mopen(\u001b[38;5;124m\"\u001b[39m\u001b[38;5;124mCATEGORIES  EN\u001b[39m\u001b[38;5;124m\"\u001b[39m)\u001b[38;5;241m.\u001b[39msheet1\n\u001b[0;32m      4\u001b[0m \u001b[38;5;124;03m'''\u001b[39;00m\n\u001b[0;32m      5\u001b[0m \u001b[38;5;124;03m# Update a range of cells using the top left corner address\u001b[39;00m\n\u001b[0;32m      6\u001b[0m \u001b[38;5;124;03mwks.update('A1', [[1, 2], [3, 4]])\u001b[39;00m\n\u001b[1;32m   (...)\u001b[0m\n\u001b[0;32m     12\u001b[0m \u001b[38;5;124;03mwks.format('A1:B1', {'textFormat': {'bold': True}})\u001b[39;00m\n\u001b[0;32m     13\u001b[0m \u001b[38;5;124;03m'''\u001b[39;00m\n",
      "\u001b[1;31mNameError\u001b[0m: name 'gc' is not defined"
     ]
    }
   ],
   "source": [
    "# Open a sheet from a spreadsheet in one go\n",
    "wks = gc.open(\"CATEGORIES  EN\").sheet1\n",
    "\n",
    "'''\n",
    "# Update a range of cells using the top left corner address\n",
    "wks.update('A1', [[1, 2], [3, 4]])\n",
    "\n",
    "# Or update a single cell\n",
    "wks.update('B42', \"it's down there somewhere, let me take another look.\")\n",
    "\n",
    "# Format the header\n",
    "wks.format('A1:B1', {'textFormat': {'bold': True}})\n",
    "'''"
   ]
  },
  {
   "cell_type": "markdown",
   "id": "be0aaa8b",
   "metadata": {},
   "source": [
    "отсюда\n",
    "https://stackoverflow.com/questions/49258566/gspread-authentication-throwing-insufficient-permission\n",
    "\n",
    "\n",
    "\n",
    "<code>\n",
    "import gspread\n",
    "from oauth2client.service_account import ServiceAccountCredentials\n",
    "scope = ['https://spreadsheets.google.com/feeds']\n",
    "creds = ServiceAccountCredentials.from_json_keyfile_name('google_auth.json', scope)\n",
    "client = gspread.authorize(creds)\n",
    "\n",
    "sheet = client.open('MySheetName').sheet1\n",
    "</code>"
   ]
  },
  {
   "cell_type": "code",
   "execution_count": null,
   "id": "b9ef35dc",
   "metadata": {},
   "outputs": [],
   "source": [
    "from oauth2client.service_account import ServiceAccountCredentials\n",
    "scope = ['https://spreadsheets.google.com/feeds']\n",
    "creds = ServiceAccountCredentials.from_json_keyfile_name('google_auth.json', scope)\n",
    "client = gspread.authorize(creds)\n"
   ]
  }
 ],
 "metadata": {
  "kernelspec": {
   "display_name": "Python 3 (ipykernel)",
   "language": "python",
   "name": "python3"
  },
  "language_info": {
   "codemirror_mode": {
    "name": "ipython",
    "version": 3
   },
   "file_extension": ".py",
   "mimetype": "text/x-python",
   "name": "python",
   "nbconvert_exporter": "python",
   "pygments_lexer": "ipython3",
   "version": "3.9.12"
  }
 },
 "nbformat": 4,
 "nbformat_minor": 5
}
