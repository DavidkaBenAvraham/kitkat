{
 "cells": [
  {
   "cell_type": "code",
   "execution_count": null,
   "id": "06128d51",
   "metadata": {},
   "outputs": [],
   "source": [
    "import http.client\n",
    "\n",
    "conn = http.client.HTTPSConnection(\"alibaba-data-service.p.rapidapi.com\")\n",
    "\n",
    "headers = {\n",
    "    'X-RapidAPI-Host': \"alibaba-data-service.p.rapidapi.com\",\n",
    "    'X-RapidAPI-Key': \"00db3e6d71mshc3346718a5a11d1p1783b3jsn59f37172f102\"\n",
    "    }\n",
    "\n",
    "conn.request(\"GET\", \"/Shop/ShopCategoryInfoQuery.ashx?member_id=ariscosmetic\", headers=headers)\n",
    "\n",
    "res = conn.getresponse()\n",
    "data = res.read()\n",
    "\n",
    "print(data.decode(\"utf-8\"))"
   ]
  }
 ],
 "metadata": {
  "kernelspec": {
   "display_name": "Python 3 (ipykernel)",
   "language": "python",
   "name": "python3"
  },
  "language_info": {
   "codemirror_mode": {
    "name": "ipython",
    "version": 3
   },
   "file_extension": ".py",
   "mimetype": "text/x-python",
   "name": "python",
   "nbconvert_exporter": "python",
   "pygments_lexer": "ipython3",
   "version": "3.9.12"
  }
 },
 "nbformat": 4,
 "nbformat_minor": 5
}
