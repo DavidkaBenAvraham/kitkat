{
 "cells": [
  {
   "cell_type": "code",
   "execution_count": 5,
   "metadata": {},
   "outputs": [],
   "source": [
    "\n",
    "import Facebook.db as fb_db\n",
    "import Messages.db as msgs_db\n",
    "\n",
    "import ipywidgets as widgets\n",
    "from IPython.display import display\n",
    "\n",
    "def add_new_message(lang,sug,tiur_katzar,message,mehir,message_folder,message_file_name,message_image_name):\n",
    "        \n",
    "    tiur_katzar = tiur_katzar.replace(\"'\" , \"\\'\")\n",
    "    tiur_katzar = tiur_katzar.replace('\"' , \"\\'\\'\")\n",
    "    \n",
    "    message = message.replace(\"'\" , \"\\'\")\n",
    "    message = message.replace('\"' , \"\\'\\'\")\n",
    "    \n",
    "    msgs_db.add_new_message(lang,sug,tiur_katzar,message,mehir,message_folder,message_file_name,message_image_name)\n",
    "    \n",
    "    \n",
    "\n",
    "def edit_msg(ROWID):\n",
    "    df = msgs_db.get_messages(ROWID = ROWID , message_status = \"*\")\n",
    "    print(df)\n",
    "    for index, row in df.iterrows():\n",
    "        #lang.value = df['lang']\n",
    "        #sug.value = df['sug']\n",
    "        textbox_tiur_katzar.value = str(row['tiur_katzar'])\n",
    "        textbox_message.value = str(row['message'])\n",
    "        textbox_mehir.value = str(row['mehir'])\n",
    "        textbox_message_folder.value = str(row['message_folder'])\n",
    "        textbox_message_file_name.value = str(row['message_image_name'])\n",
    "        textbox_message_image_name.value = str(row['lang'])"
   ]
  },
  {
   "cell_type": "code",
   "execution_count": 6,
   "metadata": {},
   "outputs": [
    {
     "data": {
      "application/vnd.jupyter.widget-view+json": {
       "model_id": "40c6bf5cea164a2abc21f9fe12e410b2",
       "version_major": 2,
       "version_minor": 0
      },
      "text/plain": [
       "RadioButtons(description='Lang', options=('he', 'ru'), value='he')"
      ]
     },
     "metadata": {},
     "output_type": "display_data"
    },
    {
     "data": {
      "application/vnd.jupyter.widget-view+json": {
       "model_id": "fee4f449eaff46219c9ad714eb185f14",
       "version_major": 2,
       "version_minor": 0
      },
      "text/plain": [
       "RadioButtons(description='sug', options=('pirsum', 'mexira'), value='pirsum')"
      ]
     },
     "metadata": {},
     "output_type": "display_data"
    },
    {
     "data": {
      "application/vnd.jupyter.widget-view+json": {
       "model_id": "0c90c4673aa645919478236a5603a5f0",
       "version_major": 2,
       "version_minor": 0
      },
      "text/plain": [
       "Textarea(value='', description='Tiur kazar', placeholder='')"
      ]
     },
     "metadata": {},
     "output_type": "display_data"
    },
    {
     "data": {
      "application/vnd.jupyter.widget-view+json": {
       "model_id": "a2106ed34e664ab99e81340ae9b61904",
       "version_major": 2,
       "version_minor": 0
      },
      "text/plain": [
       "Textarea(value='', description='Message', placeholder='')"
      ]
     },
     "metadata": {},
     "output_type": "display_data"
    },
    {
     "data": {
      "application/vnd.jupyter.widget-view+json": {
       "model_id": "8b198cd6869747a3990f2f723a44a335",
       "version_major": 2,
       "version_minor": 0
      },
      "text/plain": [
       "Text(value='', description='Mehir', placeholder='')"
      ]
     },
     "metadata": {},
     "output_type": "display_data"
    },
    {
     "data": {
      "application/vnd.jupyter.widget-view+json": {
       "model_id": "8875e676fe884c58b3268516f24f1ef7",
       "version_major": 2,
       "version_minor": 0
      },
      "text/plain": [
       "Text(value='', description='Message folder', placeholder='')"
      ]
     },
     "metadata": {},
     "output_type": "display_data"
    },
    {
     "data": {
      "application/vnd.jupyter.widget-view+json": {
       "model_id": "4e611f0769f54aed9a0e9b60a126fe1a",
       "version_major": 2,
       "version_minor": 0
      },
      "text/plain": [
       "Text(value='', description='File Name', placeholder='')"
      ]
     },
     "metadata": {},
     "output_type": "display_data"
    },
    {
     "data": {
      "application/vnd.jupyter.widget-view+json": {
       "model_id": "87fdcffae0b740818856f8c9c81b67b6",
       "version_major": 2,
       "version_minor": 0
      },
      "text/plain": [
       "Text(value='', description='Image', placeholder='')"
      ]
     },
     "metadata": {},
     "output_type": "display_data"
    },
    {
     "data": {
      "application/vnd.jupyter.widget-view+json": {
       "model_id": "f98deb237064486d9af324a006742563",
       "version_major": 2,
       "version_minor": 0
      },
      "text/plain": [
       "Button(description='Save', style=ButtonStyle())"
      ]
     },
     "metadata": {},
     "output_type": "display_data"
    },
    {
     "data": {
      "application/vnd.jupyter.widget-view+json": {
       "model_id": "aab24bdadb0c4f1da608f9176ae7b479",
       "version_major": 2,
       "version_minor": 0
      },
      "text/plain": [
       "Text(value='', description='ROWID', placeholder='')"
      ]
     },
     "metadata": {},
     "output_type": "display_data"
    },
    {
     "data": {
      "application/vnd.jupyter.widget-view+json": {
       "model_id": "a225abf812984d6d8434c0928b1e0c5a",
       "version_major": 2,
       "version_minor": 0
      },
      "text/plain": [
       "Button(description='EDIT', style=ButtonStyle())"
      ]
     },
     "metadata": {},
     "output_type": "display_data"
    }
   ],
   "source": [
    "\n",
    "lang = widgets.RadioButtons(\n",
    "options=['he', 'ru'],\n",
    "#    value='pineapple', # Defaults to 'pineapple'\n",
    "#    layout={'width': 'max-content'}, # If the items' names are long\n",
    "description='Lang',\n",
    "disabled=False\n",
    ")\n",
    "display(lang)\n",
    "\n",
    "\n",
    "sug = widgets.RadioButtons(\n",
    "options=['pirsum', 'mexira'],\n",
    "#    value='pineapple', # Defaults to 'pineapple'\n",
    "#    layout={'width': 'max-content'}, # If the items' names are long\n",
    "description='sug',\n",
    "disabled=False\n",
    ")\n",
    "display(sug)\n",
    "\n",
    "textbox_tiur_katzar = widgets.Textarea(\n",
    "    value='',\n",
    "    placeholder='',\n",
    "    description='Tiur kazar' ,\n",
    "    disabled=False   \n",
    ")\n",
    "display(textbox_tiur_katzar)\n",
    "\n",
    "textbox_message = widgets.Textarea(\n",
    "    value='',\n",
    "    placeholder='',\n",
    "    description='Message' ,\n",
    "    disabled=False   \n",
    ")\n",
    "display(textbox_message)\n",
    "\n",
    "textbox_mehir= widgets.Text(\n",
    "    value='',\n",
    "    placeholder='',\n",
    "    description='Mehir' ,\n",
    "    disabled=False   \n",
    ")\n",
    "display(textbox_mehir)\n",
    "\n",
    "textbox_message_folder = widgets.Text(\n",
    "    value='',\n",
    "    placeholder='',\n",
    "    description='Message folder' ,\n",
    "    disabled=False   \n",
    ")\n",
    "display(textbox_message_folder)\n",
    "\n",
    "\n",
    "\n",
    "textbox_message_file_name = widgets.Text(\n",
    "    value='',\n",
    "    placeholder='',\n",
    "    description='File Name' ,\n",
    "    disabled=False   \n",
    ")\n",
    "display(textbox_message_file_name)\n",
    "\n",
    "textbox_message_image_name = widgets.Text(\n",
    "    value='',\n",
    "    placeholder='',\n",
    "    description='Image' ,\n",
    "    disabled=False   \n",
    ")\n",
    "display(textbox_message_image_name)\n",
    "\n",
    "\n",
    "\n",
    "button_save = widgets.Button(description=\"Save\")\n",
    "\n",
    "def on_button_save_clicked(b): # Описываем обработчик события \n",
    "    add_new_message(lang.value, sug.value,\n",
    "                    textbox_tiur_katzar.value,\n",
    "                    textbox_message.value,\n",
    "                textbox_mehir.value,\n",
    "                    textbox_message_folder.value,\n",
    "                textbox_message_file_name.value,\n",
    "                textbox_message_image_name.value)\n",
    "\n",
    "\n",
    "button_save.on_click(on_button_save_clicked) # Назначаем этот обработчик на событие \"on_click\"\n",
    "display(button_save)\n",
    "\n",
    "textbox_ROWID = widgets.Text(\n",
    "    value='',\n",
    "    placeholder='',\n",
    "    description='ROWID' ,\n",
    "    disabled=False   \n",
    ")\n",
    "display(textbox_ROWID)\n",
    "\n",
    "def on_button_find_clicked(b): # Описываем обработчик события\n",
    "   edit_msg(textbox_ROWID.value)\n",
    "\n",
    "\n",
    "button_find = widgets.Button(description=\"EDIT\")\n",
    "button_find.on_click(on_button_find_clicked) # Назначаем этот обработчик на событие \"on_click\"\n",
    "display(button_find)\n",
    "\n"
   ]
  },
  {
   "cell_type": "code",
   "execution_count": null,
   "metadata": {},
   "outputs": [],
   "source": []
  },
  {
   "cell_type": "code",
   "execution_count": null,
   "metadata": {},
   "outputs": [],
   "source": []
  }
 ],
 "metadata": {
  "kernelspec": {
   "display_name": "Python 3",
   "language": "python",
   "name": "python3"
  },
  "language_info": {
   "codemirror_mode": {
    "name": "ipython",
    "version": 3
   },
   "file_extension": ".py",
   "mimetype": "text/x-python",
   "name": "python",
   "nbconvert_exporter": "python",
   "pygments_lexer": "ipython3",
   "version": "3.7.6"
  }
 },
 "nbformat": 4,
 "nbformat_minor": 4
}
