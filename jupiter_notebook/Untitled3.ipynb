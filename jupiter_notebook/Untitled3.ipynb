{
 "cells": [
  {
   "cell_type": "code",
   "execution_count": 8,
   "id": "36737897",
   "metadata": {},
   "outputs": [],
   "source": [
    "import requests\n",
    "import seleniumwire\n",
    "from seleniumwire import webdriver \n",
    "import pickle\n",
    "\n"
   ]
  },
  {
   "cell_type": "code",
   "execution_count": 9,
   "id": "1c7553f0",
   "metadata": {
    "scrolled": true
   },
   "outputs": [
    {
     "data": {
      "text/plain": [
       "\"\\naliexpress_cookies = {\\n'xman_us_f':'zero_order=y&x_locale=en_US&x_l=0&last_popup_time=1654166529672&x_user=IL|Onela|user|ifm|3054302447&no_popup_today=n&x_lid=il1454415447ephae&x_c_chg=0&x_c_synced=0&x_as_i=%7B%22cookieCacheEffectTime%22%3A1656172963933%2C%22isCookieCache%22%3A%22Y%22%2C%22ms%22%3A%220%22%7D&acs_rt=32718c99d3ef4e55be5e792c5a8462fb; Domain=.aliexpress.com; Expires=Thu, 13-Jul-2090 19:11:50 GMT; Path=/'\\n,'JSESSIONID':'4C6F5B0F31A04223E2B819309AFAE35C; Path=/; HttpOnly'\\n,'intl_common_forever':'m5UNfbCDh+zP/B9vVnY0CISBnEqCdkJrunjzsbac1s/ZzGyzHF9l6g==; Domain=.aliexpress.com; Expires=Thu, 13-Jul-2090 19:11:50 GMT; Path=/; HttpOnly'\\n,'intl_locale':'en_US; Domain=.aliexpress.com; Path=/'\\n,'acs_usuc_t':'x_csrf=gf7w1ab2u67d&acs_rt=ea8c2db90689414a820e0df42239f2bd; Domain=.aliexpress.com; Path=/'\\n,'xman_t':'HjeqnhvsZmlnAGSyYtq50/Hsc0mb1ycxXGKCab4fvwo/J3YfKvCJcAAjmYxfSu08; Domain=.aliexpress.com; Expires=Fri, 23-Sep-2022 15:57:43 GMT; Path=/; HttpOnly'\\n,'aep_usuc_f':'site=glo&c_tp=USD&x_alimid=3054302447&ups_d=1|1|1|1&re_sns=google&isb=y&ups_u_t=1669718521523&region=IL&b_locale=en_US&ae_u_p_s=2; Domain=.aliexpress.com; Expires=Thu, 13-Jul-2090 19:11:50 GMT; Path=/'   \\n,'AKA_A2':'A; expires=Sat, 25-Jun-2022 16:57:44 GMT; path=/; domain=aliexpress.com; secure; HttpOnly'\\n}\\n\\ndriver.add_cookie({\\n'xman_us_f':'zero_order=y&x_locale=en_US&x_l=0&last_popup_time=1654166529672&x_user=IL|Onela|user|ifm|3054302447&no_popup_today=n&x_lid=il1454415447ephae&x_c_chg=0&x_c_synced=0&x_as_i=%7B%22cookieCacheEffectTime%22%3A1656172963933%2C%22isCookieCache%22%3A%22Y%22%2C%22ms%22%3A%220%22%7D&acs_rt=32718c99d3ef4e55be5e792c5a8462fb; Domain=.aliexpress.com; Expires=Thu, 13-Jul-2090 19:11:50 GMT; Path=/'\\n,'JSESSIONID':'4C6F5B0F31A04223E2B819309AFAE35C; Path=/; HttpOnly'\\n,'intl_common_forever':'m5UNfbCDh+zP/B9vVnY0CISBnEqCdkJrunjzsbac1s/ZzGyzHF9l6g==; Domain=.aliexpress.com; Expires=Thu, 13-Jul-2090 19:11:50 GMT; Path=/; HttpOnly'\\n,'intl_locale':'en_US; Domain=.aliexpress.com; Path=/'\\n,'acs_usuc_t':'x_csrf=gf7w1ab2u67d&acs_rt=ea8c2db90689414a820e0df42239f2bd; Domain=.aliexpress.com; Path=/'\\n,'xman_t':'HjeqnhvsZmlnAGSyYtq50/Hsc0mb1ycxXGKCab4fvwo/J3YfKvCJcAAjmYxfSu08; Domain=.aliexpress.com; Expires=Fri, 23-Sep-2022 15:57:43 GMT; Path=/; HttpOnly'\\n,'aep_usuc_f':'site=glo&c_tp=USD&x_alimid=3054302447&ups_d=1|1|1|1&re_sns=google&isb=y&ups_u_t=1669718521523&region=IL&b_locale=en_US&ae_u_p_s=2; Domain=.aliexpress.com; Expires=Thu, 13-Jul-2090 19:11:50 GMT; Path=/'   \\n,'AKA_A2':'A; expires=Sat, 25-Jun-2022 16:57:44 GMT; path=/; domain=aliexpress.com; secure; HttpOnly'\\n})\\n    \""
      ]
     },
     "execution_count": 9,
     "metadata": {},
     "output_type": "execute_result"
    }
   ],
   "source": [
    "driver = webdriver.Firefox()\n",
    "driver.get('https://www.aliexpress.com/')\n",
    "\n",
    "'''\n",
    "aliexpress_cookies = {\n",
    "'xman_us_f':'zero_order=y&x_locale=en_US&x_l=0&last_popup_time=1654166529672&x_user=IL|Onela|user|ifm|3054302447&no_popup_today=n&x_lid=il1454415447ephae&x_c_chg=0&x_c_synced=0&x_as_i=%7B%22cookieCacheEffectTime%22%3A1656172963933%2C%22isCookieCache%22%3A%22Y%22%2C%22ms%22%3A%220%22%7D&acs_rt=32718c99d3ef4e55be5e792c5a8462fb; Domain=.aliexpress.com; Expires=Thu, 13-Jul-2090 19:11:50 GMT; Path=/'\n",
    ",'JSESSIONID':'4C6F5B0F31A04223E2B819309AFAE35C; Path=/; HttpOnly'\n",
    ",'intl_common_forever':'m5UNfbCDh+zP/B9vVnY0CISBnEqCdkJrunjzsbac1s/ZzGyzHF9l6g==; Domain=.aliexpress.com; Expires=Thu, 13-Jul-2090 19:11:50 GMT; Path=/; HttpOnly'\n",
    ",'intl_locale':'en_US; Domain=.aliexpress.com; Path=/'\n",
    ",'acs_usuc_t':'x_csrf=gf7w1ab2u67d&acs_rt=ea8c2db90689414a820e0df42239f2bd; Domain=.aliexpress.com; Path=/'\n",
    ",'xman_t':'HjeqnhvsZmlnAGSyYtq50/Hsc0mb1ycxXGKCab4fvwo/J3YfKvCJcAAjmYxfSu08; Domain=.aliexpress.com; Expires=Fri, 23-Sep-2022 15:57:43 GMT; Path=/; HttpOnly'\n",
    ",'aep_usuc_f':'site=glo&c_tp=USD&x_alimid=3054302447&ups_d=1|1|1|1&re_sns=google&isb=y&ups_u_t=1669718521523&region=IL&b_locale=en_US&ae_u_p_s=2; Domain=.aliexpress.com; Expires=Thu, 13-Jul-2090 19:11:50 GMT; Path=/'   \n",
    ",'AKA_A2':'A; expires=Sat, 25-Jun-2022 16:57:44 GMT; path=/; domain=aliexpress.com; secure; HttpOnly'\n",
    "}\n",
    "\n",
    "driver.add_cookie({\n",
    "'xman_us_f':'zero_order=y&x_locale=en_US&x_l=0&last_popup_time=1654166529672&x_user=IL|Onela|user|ifm|3054302447&no_popup_today=n&x_lid=il1454415447ephae&x_c_chg=0&x_c_synced=0&x_as_i=%7B%22cookieCacheEffectTime%22%3A1656172963933%2C%22isCookieCache%22%3A%22Y%22%2C%22ms%22%3A%220%22%7D&acs_rt=32718c99d3ef4e55be5e792c5a8462fb; Domain=.aliexpress.com; Expires=Thu, 13-Jul-2090 19:11:50 GMT; Path=/'\n",
    ",'JSESSIONID':'4C6F5B0F31A04223E2B819309AFAE35C; Path=/; HttpOnly'\n",
    ",'intl_common_forever':'m5UNfbCDh+zP/B9vVnY0CISBnEqCdkJrunjzsbac1s/ZzGyzHF9l6g==; Domain=.aliexpress.com; Expires=Thu, 13-Jul-2090 19:11:50 GMT; Path=/; HttpOnly'\n",
    ",'intl_locale':'en_US; Domain=.aliexpress.com; Path=/'\n",
    ",'acs_usuc_t':'x_csrf=gf7w1ab2u67d&acs_rt=ea8c2db90689414a820e0df42239f2bd; Domain=.aliexpress.com; Path=/'\n",
    ",'xman_t':'HjeqnhvsZmlnAGSyYtq50/Hsc0mb1ycxXGKCab4fvwo/J3YfKvCJcAAjmYxfSu08; Domain=.aliexpress.com; Expires=Fri, 23-Sep-2022 15:57:43 GMT; Path=/; HttpOnly'\n",
    ",'aep_usuc_f':'site=glo&c_tp=USD&x_alimid=3054302447&ups_d=1|1|1|1&re_sns=google&isb=y&ups_u_t=1669718521523&region=IL&b_locale=en_US&ae_u_p_s=2; Domain=.aliexpress.com; Expires=Thu, 13-Jul-2090 19:11:50 GMT; Path=/'   \n",
    ",'AKA_A2':'A; expires=Sat, 25-Jun-2022 16:57:44 GMT; path=/; domain=aliexpress.com; secure; HttpOnly'\n",
    "})\n",
    "    '''"
   ]
  },
  {
   "cell_type": "code",
   "execution_count": 10,
   "id": "dbb7bff1",
   "metadata": {},
   "outputs": [],
   "source": [
    "\n",
    "cookies = driver.get_cookies()\n",
    "for cookie in cookies:\n",
    "    if cookie.get('expiry', None) is not None:\n",
    "        cookie['expires'] = cookie.pop('expiry')\n",
    "pickle.dump(cookies, open('cookies.pkl', 'wb'))"
   ]
  },
  {
   "cell_type": "code",
   "execution_count": 7,
   "id": "7438317d",
   "metadata": {},
   "outputs": [],
   "source": [
    "cookies = pickle.load(open('cookies.pkl', 'rb'))\n",
    "for cookie in cookies:\n",
    "    driver.add_cookie(cookie)"
   ]
  },
  {
   "cell_type": "code",
   "execution_count": null,
   "id": "846e3948",
   "metadata": {},
   "outputs": [],
   "source": []
  }
 ],
 "metadata": {
  "kernelspec": {
   "display_name": "Python 3 (ipykernel)",
   "language": "python",
   "name": "python3"
  },
  "language_info": {
   "codemirror_mode": {
    "name": "ipython",
    "version": 3
   },
   "file_extension": ".py",
   "mimetype": "text/x-python",
   "name": "python",
   "nbconvert_exporter": "python",
   "pygments_lexer": "ipython3",
   "version": "3.9.12"
  }
 },
 "nbformat": 4,
 "nbformat_minor": 5
}
